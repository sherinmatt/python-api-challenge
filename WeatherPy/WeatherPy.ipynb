{
 "cells": [
  {
   "cell_type": "markdown",
   "metadata": {},
   "source": [
    "# WeatherPy\n",
    "----\n",
    "\n",
    "#### Note\n",
    "* Instructions have been included for each segment. You do not have to follow them exactly, but they are included to help you think through the steps."
   ]
  },
  {
   "cell_type": "code",
   "execution_count": 1,
   "metadata": {
    "scrolled": true
   },
   "outputs": [],
   "source": [
    "# Dependencies and Setup\n",
    "import matplotlib.pyplot as plt\n",
    "import pandas as pd\n",
    "import numpy as np\n",
    "import requests\n",
    "import time\n",
    "import json\n",
    "import datetime\n",
    "from scipy.stats import linregress\n",
    "\n",
    "# Import API key\n",
    "\n",
    "from config import weather_api_key\n",
    "\n",
    "# Incorporated citipy to determine city based on latitude and longitude\n",
    "from citipy import citipy\n",
    "\n",
    "# Output File (CSV)\n",
    "output_data_file = \"output_data/cities.csv\"\n",
    "\n",
    "# Range of latitudes and longitudes\n",
    "lat_range = (-90, 90)\n",
    "lng_range = (-180, 180)\n"
   ]
  },
  {
   "cell_type": "code",
   "execution_count": 2,
   "metadata": {},
   "outputs": [
    {
     "data": {
      "text/html": [
       "<div>\n",
       "<style scoped>\n",
       "    .dataframe tbody tr th:only-of-type {\n",
       "        vertical-align: middle;\n",
       "    }\n",
       "\n",
       "    .dataframe tbody tr th {\n",
       "        vertical-align: top;\n",
       "    }\n",
       "\n",
       "    .dataframe thead th {\n",
       "        text-align: right;\n",
       "    }\n",
       "</style>\n",
       "<table border=\"1\" class=\"dataframe\">\n",
       "  <thead>\n",
       "    <tr style=\"text-align: right;\">\n",
       "      <th></th>\n",
       "      <th>City_ID</th>\n",
       "      <th>City</th>\n",
       "      <th>Cloudiness</th>\n",
       "      <th>Country</th>\n",
       "      <th>Date</th>\n",
       "      <th>Humidity</th>\n",
       "      <th>Lat</th>\n",
       "      <th>Lng</th>\n",
       "      <th>Max Temp</th>\n",
       "      <th>Wind Speed</th>\n",
       "    </tr>\n",
       "  </thead>\n",
       "  <tbody>\n",
       "    <tr>\n",
       "      <th>0</th>\n",
       "      <td>0</td>\n",
       "      <td>ostrovnoy</td>\n",
       "      <td>2</td>\n",
       "      <td>RU</td>\n",
       "      <td>1558378754</td>\n",
       "      <td>72</td>\n",
       "      <td>68.05</td>\n",
       "      <td>39.51</td>\n",
       "      <td>37.50</td>\n",
       "      <td>7.16</td>\n",
       "    </tr>\n",
       "    <tr>\n",
       "      <th>1</th>\n",
       "      <td>1</td>\n",
       "      <td>mahebourg</td>\n",
       "      <td>75</td>\n",
       "      <td>MU</td>\n",
       "      <td>1558378503</td>\n",
       "      <td>74</td>\n",
       "      <td>-20.41</td>\n",
       "      <td>57.70</td>\n",
       "      <td>78.80</td>\n",
       "      <td>11.41</td>\n",
       "    </tr>\n",
       "    <tr>\n",
       "      <th>2</th>\n",
       "      <td>2</td>\n",
       "      <td>qaanaaq</td>\n",
       "      <td>25</td>\n",
       "      <td>GL</td>\n",
       "      <td>1558378755</td>\n",
       "      <td>73</td>\n",
       "      <td>77.48</td>\n",
       "      <td>-69.36</td>\n",
       "      <td>22.20</td>\n",
       "      <td>2.37</td>\n",
       "    </tr>\n",
       "    <tr>\n",
       "      <th>3</th>\n",
       "      <td>3</td>\n",
       "      <td>zhuhai</td>\n",
       "      <td>0</td>\n",
       "      <td>CN</td>\n",
       "      <td>1558378755</td>\n",
       "      <td>39</td>\n",
       "      <td>40.71</td>\n",
       "      <td>112.04</td>\n",
       "      <td>44.60</td>\n",
       "      <td>4.47</td>\n",
       "    </tr>\n",
       "    <tr>\n",
       "      <th>4</th>\n",
       "      <td>4</td>\n",
       "      <td>cape town</td>\n",
       "      <td>20</td>\n",
       "      <td>ZA</td>\n",
       "      <td>1558378755</td>\n",
       "      <td>76</td>\n",
       "      <td>-33.93</td>\n",
       "      <td>18.42</td>\n",
       "      <td>55.99</td>\n",
       "      <td>8.05</td>\n",
       "    </tr>\n",
       "    <tr>\n",
       "      <th>...</th>\n",
       "      <td>...</td>\n",
       "      <td>...</td>\n",
       "      <td>...</td>\n",
       "      <td>...</td>\n",
       "      <td>...</td>\n",
       "      <td>...</td>\n",
       "      <td>...</td>\n",
       "      <td>...</td>\n",
       "      <td>...</td>\n",
       "      <td>...</td>\n",
       "    </tr>\n",
       "    <tr>\n",
       "      <th>543</th>\n",
       "      <td>543</td>\n",
       "      <td>yabrud</td>\n",
       "      <td>0</td>\n",
       "      <td>SY</td>\n",
       "      <td>1558378840</td>\n",
       "      <td>32</td>\n",
       "      <td>33.97</td>\n",
       "      <td>36.66</td>\n",
       "      <td>80.60</td>\n",
       "      <td>8.05</td>\n",
       "    </tr>\n",
       "    <tr>\n",
       "      <th>544</th>\n",
       "      <td>544</td>\n",
       "      <td>paraiso</td>\n",
       "      <td>5</td>\n",
       "      <td>MX</td>\n",
       "      <td>1558378898</td>\n",
       "      <td>4</td>\n",
       "      <td>24.01</td>\n",
       "      <td>-104.61</td>\n",
       "      <td>84.20</td>\n",
       "      <td>16.11</td>\n",
       "    </tr>\n",
       "    <tr>\n",
       "      <th>545</th>\n",
       "      <td>545</td>\n",
       "      <td>veraval</td>\n",
       "      <td>0</td>\n",
       "      <td>FR</td>\n",
       "      <td>1558378898</td>\n",
       "      <td>62</td>\n",
       "      <td>49.65</td>\n",
       "      <td>0.71</td>\n",
       "      <td>61.00</td>\n",
       "      <td>8.05</td>\n",
       "    </tr>\n",
       "    <tr>\n",
       "      <th>546</th>\n",
       "      <td>546</td>\n",
       "      <td>novyy urgal</td>\n",
       "      <td>100</td>\n",
       "      <td>RU</td>\n",
       "      <td>1558378899</td>\n",
       "      <td>93</td>\n",
       "      <td>51.07</td>\n",
       "      <td>132.56</td>\n",
       "      <td>49.74</td>\n",
       "      <td>2.68</td>\n",
       "    </tr>\n",
       "    <tr>\n",
       "      <th>547</th>\n",
       "      <td>547</td>\n",
       "      <td>tongren</td>\n",
       "      <td>4</td>\n",
       "      <td>CN</td>\n",
       "      <td>1558378899</td>\n",
       "      <td>64</td>\n",
       "      <td>27.72</td>\n",
       "      <td>109.18</td>\n",
       "      <td>55.86</td>\n",
       "      <td>2.84</td>\n",
       "    </tr>\n",
       "  </tbody>\n",
       "</table>\n",
       "<p>548 rows × 10 columns</p>\n",
       "</div>"
      ],
      "text/plain": [
       "     City_ID         City  Cloudiness Country        Date  Humidity    Lat  \\\n",
       "0          0    ostrovnoy           2      RU  1558378754        72  68.05   \n",
       "1          1    mahebourg          75      MU  1558378503        74 -20.41   \n",
       "2          2      qaanaaq          25      GL  1558378755        73  77.48   \n",
       "3          3       zhuhai           0      CN  1558378755        39  40.71   \n",
       "4          4    cape town          20      ZA  1558378755        76 -33.93   \n",
       "..       ...          ...         ...     ...         ...       ...    ...   \n",
       "543      543       yabrud           0      SY  1558378840        32  33.97   \n",
       "544      544      paraiso           5      MX  1558378898         4  24.01   \n",
       "545      545      veraval           0      FR  1558378898        62  49.65   \n",
       "546      546  novyy urgal         100      RU  1558378899        93  51.07   \n",
       "547      547      tongren           4      CN  1558378899        64  27.72   \n",
       "\n",
       "        Lng  Max Temp  Wind Speed  \n",
       "0     39.51     37.50        7.16  \n",
       "1     57.70     78.80       11.41  \n",
       "2    -69.36     22.20        2.37  \n",
       "3    112.04     44.60        4.47  \n",
       "4     18.42     55.99        8.05  \n",
       "..      ...       ...         ...  \n",
       "543   36.66     80.60        8.05  \n",
       "544 -104.61     84.20       16.11  \n",
       "545    0.71     61.00        8.05  \n",
       "546  132.56     49.74        2.68  \n",
       "547  109.18     55.86        2.84  \n",
       "\n",
       "[548 rows x 10 columns]"
      ]
     },
     "execution_count": 2,
     "metadata": {},
     "output_type": "execute_result"
    }
   ],
   "source": [
    "#For reference\n",
    "dataset_df = pd.read_csv('output_data/cities.csv')\n",
    "dataset_df"
   ]
  },
  {
   "cell_type": "code",
   "execution_count": null,
   "metadata": {},
   "outputs": [],
   "source": []
  },
  {
   "cell_type": "markdown",
   "metadata": {},
   "source": [
    "## Generate Cities List"
   ]
  },
  {
   "cell_type": "code",
   "execution_count": 3,
   "metadata": {},
   "outputs": [
    {
     "data": {
      "text/plain": [
       "638"
      ]
     },
     "execution_count": 3,
     "metadata": {},
     "output_type": "execute_result"
    }
   ],
   "source": [
    "# List for holding lat_lngs and cities\n",
    "lat_lngs = []\n",
    "cities = []\n",
    "\n",
    "# Create set of random lat and lng combinations\n",
    "lats = np.random.uniform(lat_range[0], lat_range[1], size=1500)\n",
    "lngs = np.random.uniform(lng_range[0], lng_range[1], size=1500)\n",
    "lat_lngs = zip(lats, lngs)\n",
    "\n",
    "# Identify nearest city for each lat, lng combination\n",
    "for lat_lng in lat_lngs:\n",
    "    city = citipy.nearest_city(lat_lng[0], lat_lng[1]).city_name\n",
    "    \n",
    "# If the city is unique, then add it to a our cities list\n",
    "    if city not in cities:\n",
    "        cities.append(city)\n",
    "\n",
    "# Print the city count to confirm sufficient count\n",
    "len(cities)"
   ]
  },
  {
   "cell_type": "code",
   "execution_count": 4,
   "metadata": {},
   "outputs": [],
   "source": [
    "url = \"http://api.openweathermap.org/data/2.5/weather?\"\n",
    "\n",
    "units = \"metric\"\n",
    "\n",
    "query_url = f\"{url}appid={weather_api_key}&units={units}&q=\""
   ]
  },
  {
   "cell_type": "code",
   "execution_count": 5,
   "metadata": {},
   "outputs": [],
   "source": [
    "#TESTING \n",
    "\n",
    "#cities = [\"Paris\", \"London\", \"Oslo\", \"Beijing\"]"
   ]
  },
  {
   "cell_type": "markdown",
   "metadata": {},
   "source": [
    "## Perform API Calls\n",
    "* Perform a weather check on each city using a series of successive API calls.\n",
    "* Include a print log of each city as it'sbeing processed (with the city number and city name).\n"
   ]
  },
  {
   "cell_type": "code",
   "execution_count": 6,
   "metadata": {
    "scrolled": true
   },
   "outputs": [
    {
     "name": "stdout",
     "output_type": "stream",
     "text": [
      "Data Retrieval record 1 , 1 , saint-louis \n",
      "Data Retrieval record 2 , 1 , bilibino \n",
      "Data Retrieval record 3 , 1 , nikolskoye \n",
      "Data Retrieval record 4 , 1 , vaini \n",
      "Data Retrieval record 5 , 1 , kodiak \n",
      "Data Retrieval record 6 , 1 , east london \n",
      "Data Retrieval record 7 , 1 , pangnirtung \n",
      "Data Retrieval record 8 , 1 , thompson \n",
      "Data Retrieval record 9 , 1 , taltal \n",
      "Data Retrieval record 10 , 1 , sao joao da barra \n",
      "Data Retrieval record 11 , 1 , punta arenas \n",
      "Data Retrieval record 12 , 1 , hobart \n",
      "Data Retrieval record 13 , 1 , progreso \n",
      "Data Retrieval record 14 , 1 , westport \n",
      "Data Retrieval record 15 , 1 , galle \n",
      "Data Retrieval record 16 , 1 , port elizabeth \n",
      "Data Retrieval record 17 , 1 , humaita \n",
      "Data Retrieval record 18 , 1 , frederico westphalen \n",
      "Data Retrieval record 19 , 1 , amarante do maranhao \n",
      "Data Retrieval record 20 , 1 , vulcan \n",
      "Data Retrieval record 21 , 1 , millinocket \n",
      "Data Retrieval record 22 , 1 , new norfolk \n",
      "Data Retrieval record 23 , 1 , bluff \n",
      "Data Retrieval record 24 , 1 , bethel \n",
      "Data Retrieval record 25 , 1 , chara \n",
      "Data Retrieval record 26 , 1 , avarua \n",
      "Data Retrieval record 27 , 1 , kodinsk \n",
      "Data Retrieval record 28 , 1 , mazatlan \n",
      "Data Retrieval record 29 , 1 , paamiut \n",
      "Data Retrieval record 30 , 1 , coihaique \n",
      "Data Retrieval record 31 , 1 , hermanus \n",
      "City not found here taolanaro\n",
      "Data Retrieval record 33 , 1 , tetiyiv \n",
      "Data Retrieval record 34 , 1 , naples \n",
      "Data Retrieval record 35 , 1 , mega \n",
      "Data Retrieval record 36 , 1 , tiksi \n",
      "Data Retrieval record 37 , 1 , cabo san lucas \n",
      "Data Retrieval record 38 , 1 , mataura \n",
      "City not found here illoqqortoormiut\n",
      "Data Retrieval record 40 , 1 , ushuaia \n",
      "Data Retrieval record 41 , 1 , faanui \n",
      "Data Retrieval record 42 , 1 , chandur bazar \n",
      "Data Retrieval record 43 , 1 , seminole \n",
      "City not found here belushya guba\n",
      "Data Retrieval record 45 , 1 , rikitea \n",
      "City not found here samusu\n",
      "Data Retrieval record 47 , 1 , puerto ayora \n",
      "Data Retrieval record 48 , 1 , castro \n",
      "Data Retrieval record 49 , 1 , flinders \n",
      "Data Retrieval record 50 , 1 , koulikoro \n",
      "Data Retrieval record 51 , 1 , krasnyy chikoy \n",
      "Data Retrieval record 1 , 2 , torbay \n",
      "Data Retrieval record 2 , 2 , ulladulla \n",
      "Data Retrieval record 3 , 2 , jamestown \n",
      "Data Retrieval record 4 , 2 , pingxiang \n",
      "Data Retrieval record 5 , 2 , atar \n",
      "Data Retrieval record 6 , 2 , tuktoyaktuk \n",
      "Data Retrieval record 7 , 2 , narsaq \n",
      "Data Retrieval record 8 , 2 , port alfred \n",
      "Data Retrieval record 9 , 2 , malabo \n",
      "Data Retrieval record 10 , 2 , mayumba \n",
      "Data Retrieval record 11 , 2 , saskylakh \n",
      "Data Retrieval record 12 , 2 , bambous virieux \n",
      "Data Retrieval record 13 , 2 , albany \n",
      "Data Retrieval record 14 , 2 , labuhan \n",
      "Data Retrieval record 15 , 2 , maniitsoq \n",
      "Data Retrieval record 16 , 2 , anloga \n",
      "Data Retrieval record 17 , 2 , umm lajj \n",
      "Data Retrieval record 18 , 2 , barrow \n",
      "Data Retrieval record 19 , 2 , port shepstone \n",
      "Data Retrieval record 20 , 2 , comodoro rivadavia \n",
      "Data Retrieval record 21 , 2 , busselton \n",
      "Data Retrieval record 22 , 2 , tukrah \n",
      "Data Retrieval record 23 , 2 , mar del plata \n",
      "Data Retrieval record 24 , 2 , dombarovskiy \n",
      "Data Retrieval record 25 , 2 , pekan \n",
      "Data Retrieval record 26 , 2 , hay river \n",
      "Data Retrieval record 27 , 2 , sur \n",
      "Data Retrieval record 28 , 2 , amreli \n",
      "Data Retrieval record 29 , 2 , lindi \n",
      "Data Retrieval record 30 , 2 , stolin \n",
      "Data Retrieval record 31 , 2 , les cayes \n",
      "Data Retrieval record 32 , 2 , anadyr \n",
      "Data Retrieval record 33 , 2 , hamilton \n",
      "Data Retrieval record 34 , 2 , andenes \n",
      "City not found here falealupo\n",
      "Data Retrieval record 36 , 2 , nador \n",
      "Data Retrieval record 37 , 2 , hithadhoo \n",
      "Data Retrieval record 38 , 2 , namibe \n",
      "Data Retrieval record 39 , 2 , port lincoln \n",
      "Data Retrieval record 40 , 2 , khatanga \n",
      "Data Retrieval record 41 , 2 , upernavik \n",
      "Data Retrieval record 42 , 2 , saint-philippe \n",
      "City not found here hunza\n",
      "City not found here nizhneyansk\n",
      "Data Retrieval record 45 , 2 , pacific grove \n",
      "Data Retrieval record 46 , 2 , kununurra \n",
      "Data Retrieval record 47 , 2 , kieta \n",
      "Data Retrieval record 48 , 2 , cape town \n",
      "Data Retrieval record 49 , 2 , sangar \n",
      "Data Retrieval record 50 , 2 , ibra \n",
      "City not found here karkaralinsk\n",
      "Data Retrieval record 1 , 3 , necochea \n",
      "Data Retrieval record 2 , 3 , port hedland \n",
      "Data Retrieval record 3 , 3 , dingle \n",
      "Data Retrieval record 4 , 3 , maungaturoto \n",
      "Data Retrieval record 5 , 3 , bredasdorp \n",
      "Data Retrieval record 6 , 3 , airai \n",
      "Data Retrieval record 7 , 3 , kaitangata \n",
      "Data Retrieval record 8 , 3 , teshie \n",
      "Data Retrieval record 9 , 3 , saint george \n",
      "Data Retrieval record 10 , 3 , moose factory \n",
      "Data Retrieval record 11 , 3 , georgetown \n",
      "Data Retrieval record 12 , 3 , zhigansk \n",
      "Data Retrieval record 13 , 3 , saint-agapit \n",
      "City not found here amderma\n",
      "Data Retrieval record 15 , 3 , chesma \n",
      "Data Retrieval record 16 , 3 , lavrentiya \n",
      "Data Retrieval record 17 , 3 , roald \n",
      "Data Retrieval record 18 , 3 , vostok \n",
      "Data Retrieval record 19 , 3 , chernyshevskiy \n",
      "Data Retrieval record 20 , 3 , beyneu \n",
      "Data Retrieval record 21 , 3 , paka \n",
      "Data Retrieval record 22 , 3 , tromso \n",
      "Data Retrieval record 23 , 3 , ponta do sol \n",
      "Data Retrieval record 24 , 3 , hundested \n",
      "Data Retrieval record 25 , 3 , aklavik \n",
      "Data Retrieval record 26 , 3 , azangaro \n",
      "Data Retrieval record 27 , 3 , bandarbeyla \n",
      "Data Retrieval record 28 , 3 , brownsville \n",
      "Data Retrieval record 29 , 3 , chuy \n",
      "Data Retrieval record 30 , 3 , cherskiy \n",
      "Data Retrieval record 31 , 3 , ryotsu \n",
      "Data Retrieval record 32 , 3 , coffs harbour \n",
      "Data Retrieval record 33 , 3 , luderitz \n",
      "Data Retrieval record 34 , 3 , saint-joseph \n",
      "City not found here vaitupu\n",
      "Data Retrieval record 36 , 3 , pangody \n",
      "Data Retrieval record 37 , 3 , egvekinot \n",
      "Data Retrieval record 38 , 3 , trelew \n",
      "Data Retrieval record 39 , 3 , bambanglipuro \n",
      "Data Retrieval record 40 , 3 , lumeje \n",
      "Data Retrieval record 41 , 3 , sao filipe \n",
      "Data Retrieval record 42 , 3 , dikson \n",
      "Data Retrieval record 43 , 3 , cerro cama \n",
      "Data Retrieval record 44 , 3 , namtsy \n",
      "Data Retrieval record 45 , 3 , maarianhamina \n",
      "City not found here kuche\n",
      "Data Retrieval record 47 , 3 , kirakira \n",
      "Data Retrieval record 48 , 3 , kavaratti \n",
      "Data Retrieval record 49 , 3 , port maria \n",
      "Data Retrieval record 50 , 3 , jalu \n",
      "Data Retrieval record 51 , 3 , longyearbyen \n",
      "Data Retrieval record 1 , 4 , carnarvon \n",
      "Data Retrieval record 2 , 4 , virginia beach \n",
      "Data Retrieval record 3 , 4 , kuusamo \n",
      "Data Retrieval record 4 , 4 , arraial do cabo \n",
      "Data Retrieval record 5 , 4 , vila velha \n",
      "Data Retrieval record 6 , 4 , acarau \n",
      "Data Retrieval record 7 , 4 , victoria \n",
      "Data Retrieval record 8 , 4 , dubbo \n",
      "Data Retrieval record 9 , 4 , boulder city \n",
      "City not found here matameye\n",
      "Data Retrieval record 11 , 4 , caravelas \n",
      "Data Retrieval record 12 , 4 , kinango \n",
      "Data Retrieval record 13 , 4 , carsamba \n",
      "Data Retrieval record 14 , 4 , qaanaaq \n",
      "Data Retrieval record 15 , 4 , sitka \n",
      "Data Retrieval record 16 , 4 , chokurdakh \n",
      "Data Retrieval record 17 , 4 , jablah \n",
      "Data Retrieval record 18 , 4 , izhma \n",
      "Data Retrieval record 19 , 4 , tufesti \n",
      "Data Retrieval record 20 , 4 , krasnoshchekovo \n",
      "Data Retrieval record 21 , 4 , hofn \n",
      "Data Retrieval record 22 , 4 , jishu \n",
      "Data Retrieval record 23 , 4 , tuatapere \n",
      "Data Retrieval record 24 , 4 , palana \n",
      "Data Retrieval record 25 , 4 , hobyo \n",
      "Data Retrieval record 26 , 4 , olafsvik \n",
      "Data Retrieval record 27 , 4 , ostrovnoy \n",
      "Data Retrieval record 28 , 4 , tahoua \n",
      "Data Retrieval record 29 , 4 , abu samrah \n",
      "Data Retrieval record 30 , 4 , laurel \n",
      "Data Retrieval record 31 , 4 , cidreira \n",
      "Data Retrieval record 32 , 4 , yellowknife \n",
      "Data Retrieval record 33 , 4 , garzon \n",
      "City not found here barentsburg\n",
      "Data Retrieval record 35 , 4 , lasa \n",
      "Data Retrieval record 36 , 4 , college \n",
      "Data Retrieval record 37 , 4 , tambacounda \n",
      "Data Retrieval record 38 , 4 , batagay \n",
      "Data Retrieval record 39 , 4 , coahuayana \n",
      "Data Retrieval record 40 , 4 , baherden \n",
      "Data Retrieval record 41 , 4 , parabel \n",
      "Data Retrieval record 42 , 4 , bathsheba \n",
      "City not found here alotau\n",
      "Data Retrieval record 44 , 4 , arvika \n",
      "Data Retrieval record 45 , 4 , atuona \n",
      "Data Retrieval record 46 , 4 , kruisfontein \n",
      "Data Retrieval record 47 , 4 , hilo \n",
      "Data Retrieval record 48 , 4 , fortuna \n",
      "Data Retrieval record 49 , 4 , baneh \n",
      "Data Retrieval record 50 , 4 , shizunai \n"
     ]
    },
    {
     "name": "stdout",
     "output_type": "stream",
     "text": [
      "Data Retrieval record 51 , 4 , yulara \n",
      "City not found here bolungarvik\n",
      "Data Retrieval record 2 , 5 , naujamiestis \n",
      "Data Retrieval record 3 , 5 , gua musang \n",
      "Data Retrieval record 4 , 5 , erzin \n",
      "Data Retrieval record 5 , 5 , alice springs \n",
      "Data Retrieval record 6 , 5 , udachnyy \n",
      "Data Retrieval record 7 , 5 , alofi \n",
      "Data Retrieval record 8 , 5 , jiuquan \n",
      "Data Retrieval record 9 , 5 , tasiilaq \n",
      "Data Retrieval record 10 , 5 , sioux lookout \n",
      "Data Retrieval record 11 , 5 , sabang \n",
      "Data Retrieval record 12 , 5 , kapoeta \n",
      "Data Retrieval record 13 , 5 , portland \n",
      "Data Retrieval record 14 , 5 , sovetskaya \n",
      "Data Retrieval record 15 , 5 , geraldton \n",
      "Data Retrieval record 16 , 5 , aleksandrov gay \n",
      "Data Retrieval record 17 , 5 , puerto del rosario \n",
      "Data Retrieval record 18 , 5 , krasnovishersk \n",
      "Data Retrieval record 19 , 5 , taksimo \n",
      "Data Retrieval record 20 , 5 , cockburn town \n",
      "Data Retrieval record 21 , 5 , harper \n",
      "Data Retrieval record 22 , 5 , sarangani \n",
      "Data Retrieval record 23 , 5 , khuzdar \n",
      "Data Retrieval record 24 , 5 , noumea \n",
      "Data Retrieval record 25 , 5 , clarksville \n",
      "Data Retrieval record 26 , 5 , sobolevo \n",
      "Data Retrieval record 27 , 5 , sulangan \n",
      "Data Retrieval record 28 , 5 , rocha \n",
      "Data Retrieval record 29 , 5 , loveland \n",
      "Data Retrieval record 30 , 5 , guerrero negro \n",
      "Data Retrieval record 31 , 5 , nioki \n",
      "Data Retrieval record 32 , 5 , grao mogol \n",
      "Data Retrieval record 33 , 5 , dhidhdhoo \n",
      "Data Retrieval record 34 , 5 , neiafu \n",
      "Data Retrieval record 35 , 5 , beasain \n",
      "Data Retrieval record 36 , 5 , talnakh \n",
      "Data Retrieval record 37 , 5 , lorengau \n",
      "Data Retrieval record 38 , 5 , mehamn \n",
      "Data Retrieval record 39 , 5 , ribeira grande \n",
      "Data Retrieval record 40 , 5 , klaksvik \n",
      "Data Retrieval record 41 , 5 , tura \n",
      "Data Retrieval record 42 , 5 , deputatskiy \n",
      "Data Retrieval record 43 , 5 , turochak \n",
      "Data Retrieval record 44 , 5 , ossora \n",
      "Data Retrieval record 45 , 5 , zhanaozen \n",
      "City not found here takob\n",
      "City not found here yanan\n",
      "Data Retrieval record 48 , 5 , ambilobe \n",
      "City not found here attawapiskat\n",
      "Data Retrieval record 50 , 5 , jodhpur \n",
      "Data Retrieval record 51 , 5 , jiquilisco \n",
      "City not found here tsihombe\n",
      "Data Retrieval record 2 , 6 , ixtapa \n",
      "Data Retrieval record 3 , 6 , chopovychi \n",
      "Data Retrieval record 4 , 6 , ambon \n",
      "Data Retrieval record 5 , 6 , coquimbo \n",
      "Data Retrieval record 6 , 6 , phalodi \n",
      "Data Retrieval record 7 , 6 , margate \n",
      "Data Retrieval record 8 , 6 , bac lieu \n",
      "Data Retrieval record 9 , 6 , puerto escondido \n",
      "Data Retrieval record 10 , 6 , betsiamites \n",
      "Data Retrieval record 11 , 6 , henties bay \n",
      "Data Retrieval record 12 , 6 , gunjur \n",
      "Data Retrieval record 13 , 6 , borsad \n",
      "Data Retrieval record 14 , 6 , norman wells \n",
      "Data Retrieval record 15 , 6 , zyryanka \n",
      "Data Retrieval record 16 , 6 , saint-denis \n",
      "Data Retrieval record 17 , 6 , jonesboro \n",
      "Data Retrieval record 18 , 6 , talakan \n",
      "Data Retrieval record 19 , 6 , muros \n",
      "Data Retrieval record 20 , 6 , cayenne \n",
      "Data Retrieval record 21 , 6 , touros \n",
      "Data Retrieval record 22 , 6 , axim \n",
      "Data Retrieval record 23 , 6 , longhua \n",
      "Data Retrieval record 24 , 6 , le marin \n",
      "Data Retrieval record 25 , 6 , angadanan \n",
      "Data Retrieval record 26 , 6 , koumac \n",
      "Data Retrieval record 27 , 6 , beaune \n",
      "Data Retrieval record 28 , 6 , gorin \n",
      "Data Retrieval record 29 , 6 , banjar \n",
      "Data Retrieval record 30 , 6 , laguna \n",
      "Data Retrieval record 31 , 6 , concarneau \n",
      "City not found here sentyabrskiy\n",
      "Data Retrieval record 33 , 6 , campos novos \n",
      "Data Retrieval record 34 , 6 , fairbanks \n",
      "Data Retrieval record 35 , 6 , taywarah \n",
      "Data Retrieval record 36 , 6 , goderich \n",
      "Data Retrieval record 37 , 6 , praia \n",
      "Data Retrieval record 38 , 6 , atascadero \n",
      "City not found here tumannyy\n",
      "Data Retrieval record 40 , 6 , costinesti \n",
      "Data Retrieval record 41 , 6 , dergachi \n",
      "Data Retrieval record 42 , 6 , calvinia \n",
      "Data Retrieval record 43 , 6 , moctezuma \n",
      "Data Retrieval record 44 , 6 , vila franca do campo \n",
      "Data Retrieval record 45 , 6 , nishihara \n",
      "Data Retrieval record 46 , 6 , salinas \n",
      "Data Retrieval record 47 , 6 , katsuura \n",
      "Data Retrieval record 48 , 6 , hurghada \n",
      "Data Retrieval record 49 , 6 , ocos \n",
      "Data Retrieval record 50 , 6 , rome \n",
      "Data Retrieval record 51 , 6 , isfana \n",
      "Data Retrieval record 1 , 7 , burghausen \n",
      "Data Retrieval record 2 , 7 , lucapa \n",
      "Data Retrieval record 3 , 7 , carbajales \n",
      "City not found here bossembele\n",
      "Data Retrieval record 5 , 7 , high level \n",
      "Data Retrieval record 6 , 7 , kenai \n",
      "Data Retrieval record 7 , 7 , salalah \n",
      "Data Retrieval record 8 , 7 , souillac \n",
      "Data Retrieval record 9 , 7 , haines junction \n",
      "Data Retrieval record 10 , 7 , kochubey \n",
      "Data Retrieval record 11 , 7 , atasu \n",
      "Data Retrieval record 12 , 7 , lompoc \n",
      "Data Retrieval record 13 , 7 , port blair \n",
      "Data Retrieval record 14 , 7 , itoman \n",
      "Data Retrieval record 15 , 7 , mahibadhoo \n",
      "Data Retrieval record 16 , 7 , denpasar \n",
      "Data Retrieval record 17 , 7 , saint-augustin \n",
      "Data Retrieval record 18 , 7 , navlya \n",
      "Data Retrieval record 19 , 7 , malanje \n",
      "Data Retrieval record 20 , 7 , plettenberg bay \n",
      "Data Retrieval record 21 , 7 , hualmay \n",
      "City not found here palabuhanratu\n",
      "Data Retrieval record 23 , 7 , tinskoy \n",
      "Data Retrieval record 24 , 7 , yeniseysk \n",
      "Data Retrieval record 25 , 7 , meridian \n",
      "Data Retrieval record 26 , 7 , saint johnsbury \n",
      "Data Retrieval record 27 , 7 , ilulissat \n",
      "Data Retrieval record 28 , 7 , pedernales \n",
      "Data Retrieval record 29 , 7 , funadhoo \n",
      "Data Retrieval record 30 , 7 , havre-saint-pierre \n",
      "Data Retrieval record 31 , 7 , poum \n",
      "Data Retrieval record 32 , 7 , kandrian \n",
      "Data Retrieval record 33 , 7 , bol \n",
      "Data Retrieval record 34 , 7 , lebu \n",
      "Data Retrieval record 35 , 7 , mahebourg \n",
      "Data Retrieval record 36 , 7 , mahina \n",
      "Data Retrieval record 37 , 7 , boa vista \n",
      "Data Retrieval record 38 , 7 , dudinka \n",
      "Data Retrieval record 39 , 7 , clyde river \n",
      "Data Retrieval record 40 , 7 , strelka \n",
      "Data Retrieval record 41 , 7 , atlantic city \n",
      "Data Retrieval record 42 , 7 , lujan \n",
      "Data Retrieval record 43 , 7 , dinar \n",
      "Data Retrieval record 44 , 7 , hit \n",
      "Data Retrieval record 45 , 7 , sinnamary \n",
      "City not found here louisbourg\n",
      "Data Retrieval record 47 , 7 , celestun \n",
      "Data Retrieval record 48 , 7 , usinsk \n",
      "Data Retrieval record 49 , 7 , snasa \n",
      "Data Retrieval record 50 , 7 , severo-kurilsk \n",
      "Data Retrieval record 51 , 7 , bandar-e lengeh \n",
      "City not found here putla\n",
      "City not found here ijaki\n",
      "Data Retrieval record 1 , 8 , mongu \n",
      "Data Retrieval record 2 , 8 , auki \n",
      "Data Retrieval record 3 , 8 , nanyuki \n",
      "City not found here skalistyy\n",
      "Data Retrieval record 5 , 8 , mitsamiouli \n",
      "Data Retrieval record 6 , 8 , gallipoli \n",
      "Data Retrieval record 7 , 8 , saint-jerome \n",
      "Data Retrieval record 8 , 8 , tambura \n",
      "Data Retrieval record 9 , 8 , santa ana \n",
      "Data Retrieval record 10 , 8 , tateyama \n",
      "City not found here jazzin\n",
      "Data Retrieval record 12 , 8 , motygino \n",
      "Data Retrieval record 13 , 8 , hearst \n",
      "City not found here dianopolis\n",
      "Data Retrieval record 15 , 8 , havelock \n",
      "Data Retrieval record 16 , 8 , srednekolymsk \n",
      "City not found here safwah\n",
      "Data Retrieval record 18 , 8 , vandavasi \n",
      "Data Retrieval record 19 , 8 , fort nelson \n",
      "City not found here karakendzha\n",
      "Data Retrieval record 21 , 8 , xapuri \n",
      "Data Retrieval record 22 , 8 , vuktyl \n",
      "Data Retrieval record 23 , 8 , kortkeros \n",
      "Data Retrieval record 24 , 8 , yerbogachen \n",
      "Data Retrieval record 25 , 8 , san angelo \n",
      "City not found here kamenskoye\n",
      "Data Retrieval record 27 , 8 , codrington \n",
      "Data Retrieval record 28 , 8 , molde \n",
      "Data Retrieval record 29 , 8 , mount isa \n",
      "Data Retrieval record 30 , 8 , yumen \n",
      "Data Retrieval record 31 , 8 , provideniya \n",
      "Data Retrieval record 32 , 8 , saldanha \n",
      "Data Retrieval record 33 , 8 , ukiah \n",
      "Data Retrieval record 34 , 8 , marienburg \n",
      "Data Retrieval record 35 , 8 , krasnyy \n",
      "City not found here mys shmidta\n",
      "City not found here mbacke\n",
      "Data Retrieval record 38 , 8 , ardmore \n",
      "Data Retrieval record 39 , 8 , nanortalik \n",
      "Data Retrieval record 40 , 8 , yanam \n",
      "Data Retrieval record 41 , 8 , usakos \n",
      "Data Retrieval record 42 , 8 , xining \n",
      "Data Retrieval record 43 , 8 , isilkul \n",
      "Data Retrieval record 44 , 8 , pevek \n",
      "City not found here chagda\n",
      "Data Retrieval record 46 , 8 , sao raimundo nonato \n",
      "Data Retrieval record 47 , 8 , lethem \n",
      "Data Retrieval record 48 , 8 , lakatoro \n",
      "Data Retrieval record 49 , 8 , alugan \n",
      "Data Retrieval record 50 , 8 , biaora \n",
      "Data Retrieval record 51 , 8 , chinhoyi \n"
     ]
    },
    {
     "name": "stdout",
     "output_type": "stream",
     "text": [
      "Data Retrieval record 1 , 9 , conceicao da barra \n",
      "Data Retrieval record 2 , 9 , kupang \n",
      "Data Retrieval record 3 , 9 , bilma \n",
      "Data Retrieval record 4 , 9 , mpulungu \n",
      "Data Retrieval record 5 , 9 , road town \n",
      "City not found here dien bien\n",
      "Data Retrieval record 7 , 9 , zuenoula \n",
      "Data Retrieval record 8 , 9 , paracuru \n",
      "City not found here yanchukan\n",
      "Data Retrieval record 10 , 9 , imbituba \n",
      "Data Retrieval record 11 , 9 , nome \n",
      "Data Retrieval record 12 , 9 , tobetsu \n",
      "Data Retrieval record 13 , 9 , yarada \n",
      "Data Retrieval record 14 , 9 , santa rosa \n",
      "Data Retrieval record 15 , 9 , bluefield \n",
      "Data Retrieval record 16 , 9 , sittingbourne \n",
      "Data Retrieval record 17 , 9 , darnah \n",
      "Data Retrieval record 18 , 9 , rawah \n",
      "Data Retrieval record 19 , 9 , buala \n",
      "City not found here burica\n",
      "Data Retrieval record 21 , 9 , brookhaven \n",
      "Data Retrieval record 22 , 9 , tautira \n",
      "Data Retrieval record 23 , 9 , boden \n",
      "Data Retrieval record 24 , 9 , buea \n",
      "Data Retrieval record 25 , 9 , malyn \n",
      "Data Retrieval record 26 , 9 , iquique \n",
      "Data Retrieval record 27 , 9 , pochutla \n",
      "Data Retrieval record 28 , 9 , zhuhai \n",
      "Data Retrieval record 29 , 9 , verkhnetulomskiy \n",
      "Data Retrieval record 30 , 9 , hengshui \n",
      "Data Retrieval record 31 , 9 , papara \n",
      "City not found here grand river south east\n",
      "Data Retrieval record 33 , 9 , vao \n",
      "Data Retrieval record 34 , 9 , kailua \n",
      "City not found here hihifo\n",
      "Data Retrieval record 36 , 9 , makakilo city \n",
      "Data Retrieval record 37 , 9 , te anau \n",
      "Data Retrieval record 38 , 9 , nevelsk \n",
      "Data Retrieval record 39 , 9 , gamboma \n",
      "Data Retrieval record 40 , 9 , simao \n",
      "Data Retrieval record 41 , 9 , wailuku \n",
      "Data Retrieval record 42 , 9 , caorle \n",
      "Data Retrieval record 43 , 9 , bubaque \n",
      "Data Retrieval record 44 , 9 , itarema \n",
      "Data Retrieval record 45 , 9 , marhaura \n",
      "Data Retrieval record 46 , 9 , torit \n",
      "Data Retrieval record 47 , 9 , luau \n",
      "City not found here ouranopolis\n",
      "Data Retrieval record 49 , 9 , nikel \n",
      "Data Retrieval record 50 , 9 , lagoa \n",
      "Data Retrieval record 51 , 9 , romitan \n",
      "Data Retrieval record 1 , 10 , eureka \n",
      "Data Retrieval record 2 , 10 , grand gaube \n",
      "Data Retrieval record 3 , 10 , nova olimpia \n",
      "City not found here bargal\n",
      "Data Retrieval record 5 , 10 , takoradi \n",
      "Data Retrieval record 6 , 10 , isangel \n",
      "Data Retrieval record 7 , 10 , xicotencatl \n",
      "Data Retrieval record 8 , 10 , knysna \n",
      "Data Retrieval record 9 , 10 , imeni stepana razina \n",
      "Data Retrieval record 10 , 10 , kamenka \n",
      "Data Retrieval record 11 , 10 , kloulklubed \n",
      "Data Retrieval record 12 , 10 , kedrovyy \n",
      "Data Retrieval record 13 , 10 , san quintin \n",
      "Data Retrieval record 14 , 10 , pisco \n",
      "Data Retrieval record 15 , 10 , inuvik \n",
      "Data Retrieval record 16 , 10 , banepa \n",
      "Data Retrieval record 17 , 10 , asau \n",
      "City not found here marcona\n",
      "Data Retrieval record 19 , 10 , susner \n",
      "Data Retrieval record 20 , 10 , ha tinh \n",
      "Data Retrieval record 21 , 10 , beruwala \n",
      "City not found here solovetskiy\n",
      "Data Retrieval record 23 , 10 , outjo \n",
      "Data Retrieval record 24 , 10 , aykhal \n",
      "Data Retrieval record 25 , 10 , iqaluit \n",
      "Data Retrieval record 26 , 10 , santiago \n",
      "Data Retrieval record 27 , 10 , areosa \n",
      "Data Retrieval record 28 , 10 , ca mau \n",
      "Data Retrieval record 29 , 10 , evanston \n",
      "Data Retrieval record 30 , 10 , honiara \n",
      "Data Retrieval record 31 , 10 , la romana \n",
      "Data Retrieval record 32 , 10 , teknaf \n",
      "Data Retrieval record 33 , 10 , shaowu \n",
      "Data Retrieval record 34 , 10 , raghunathpur \n",
      "Data Retrieval record 35 , 10 , shingu \n",
      "Data Retrieval record 36 , 10 , khani \n",
      "City not found here umzimvubu\n",
      "Data Retrieval record 38 , 10 , malaya vishera \n",
      "Data Retrieval record 39 , 10 , polunochnoye \n",
      "Data Retrieval record 40 , 10 , ikornnes \n",
      "Data Retrieval record 41 , 10 , lourdes \n",
      "Data Retrieval record 42 , 10 , atambua \n",
      "Data Retrieval record 43 , 10 , mount gambier \n",
      "Data Retrieval record 44 , 10 , shimoda \n",
      "Data Retrieval record 45 , 10 , tazovskiy \n",
      "Data Retrieval record 46 , 10 , bourail \n",
      "Data Retrieval record 47 , 10 , stepnyak \n",
      "Data Retrieval record 48 , 10 , uren \n",
      "Data Retrieval record 49 , 10 , mamou \n",
      "Data Retrieval record 50 , 10 , san cristobal \n",
      "Data Retrieval record 51 , 10 , eunice \n",
      "Data Retrieval record 1 , 11 , omsukchan \n",
      "Data Retrieval record 2 , 11 , savalou \n",
      "Data Retrieval record 3 , 11 , valparaiso \n",
      "Data Retrieval record 4 , 11 , viking \n",
      "Data Retrieval record 5 , 11 , sao gabriel da cachoeira \n",
      "Data Retrieval record 6 , 11 , santa marta \n",
      "Data Retrieval record 7 , 11 , pimentel \n",
      "City not found here toungoo\n",
      "Data Retrieval record 9 , 11 , matara \n",
      "Data Retrieval record 10 , 11 , san patricio \n",
      "Data Retrieval record 11 , 11 , najran \n",
      "Data Retrieval record 12 , 11 , nouadhibou \n",
      "Data Retrieval record 13 , 11 , namatanai \n",
      "Data Retrieval record 14 , 11 , tomatlan \n",
      "Data Retrieval record 15 , 11 , dwarka \n",
      "Data Retrieval record 16 , 11 , surin \n",
      "Data Retrieval record 17 , 11 , kalia \n",
      "Data Retrieval record 18 , 11 , esperance \n",
      "Data Retrieval record 19 , 11 , ponta delgada \n",
      "Data Retrieval record 20 , 11 , ola \n",
      "Data Retrieval record 21 , 11 , la rioja \n",
      "Data Retrieval record 22 , 11 , nerchinskiy zavod \n",
      "Data Retrieval record 23 , 11 , dalvik \n",
      "Data Retrieval record 24 , 11 , barong \n",
      "Data Retrieval record 25 , 11 , tezu \n",
      "Data Retrieval record 26 , 11 , nongpoh \n",
      "Data Retrieval record 27 , 11 , klyuchi \n",
      "Data Retrieval record 28 , 11 , paslek \n",
      "Data Retrieval record 29 , 11 , vaitape \n",
      "Data Retrieval record 30 , 11 , sisimiut \n",
      "Data Retrieval record 31 , 11 , mezen \n",
      "Data Retrieval record 32 , 11 , las vegas \n",
      "City not found here borlange\n",
      "Data Retrieval record 34 , 11 , ancud \n",
      "Data Retrieval record 35 , 11 , independence \n",
      "Data Retrieval record 36 , 11 , lintangan \n",
      "Data Retrieval record 37 , 11 , kerrville \n",
      "Data Retrieval record 38 , 11 , beringovskiy \n",
      "Data Retrieval record 39 , 11 , pucara \n",
      "Data Retrieval record 40 , 11 , brae \n",
      "Data Retrieval record 41 , 11 , moerai \n",
      "Data Retrieval record 42 , 11 , bonnyville \n",
      "Data Retrieval record 43 , 11 , zhongshu \n",
      "Data Retrieval record 44 , 11 , matagami \n",
      "Data Retrieval record 45 , 11 , passo de camaragibe \n",
      "Data Retrieval record 46 , 11 , teya \n",
      "Data Retrieval record 47 , 11 , ahipara \n",
      "Data Retrieval record 48 , 11 , ballina \n",
      "Data Retrieval record 49 , 11 , el bordo \n",
      "Data Retrieval record 50 , 11 , guaramirim \n",
      "City not found here mrirt\n",
      "Data Retrieval record 1 , 12 , jennings \n",
      "Data Retrieval record 2 , 12 , lillooet \n",
      "Data Retrieval record 3 , 12 , fukue \n",
      "Data Retrieval record 4 , 12 , visby \n",
      "Data Retrieval record 5 , 12 , maldonado \n",
      "Data Retrieval record 6 , 12 , marsala \n",
      "Data Retrieval record 7 , 12 , bacarra \n",
      "Data Retrieval record 8 , 12 , inverness \n",
      "Data Retrieval record 9 , 12 , riyadh \n",
      "City not found here saleaula\n",
      "Data Retrieval record 11 , 12 , pundaguitan \n",
      "Data Retrieval record 12 , 12 , nehe \n",
      "Data Retrieval record 13 , 12 , port-cartier \n",
      "Data Retrieval record 14 , 12 , esil \n",
      "Data Retrieval record 15 , 12 , new albany \n",
      "Data Retrieval record 16 , 12 , lermontovka \n",
      "City not found here samalaeulu\n",
      "Data Retrieval record 18 , 12 , katherine \n",
      "Data Retrieval record 19 , 12 , qiongshan \n",
      "Data Retrieval record 20 , 12 , broome \n",
      "Data Retrieval record 21 , 12 , iracoubo \n",
      "Data Retrieval record 22 , 12 , myitkyina \n",
      "Data Retrieval record 23 , 12 , sao felix do xingu \n",
      "Data Retrieval record 24 , 12 , zhicheng \n",
      "Data Retrieval record 25 , 12 , nikolayevsk-na-amure \n",
      "Data Retrieval record 26 , 12 , port macquarie \n",
      "Data Retrieval record 27 , 12 , tocopilla \n",
      "Data Retrieval record 28 , 12 , limon \n",
      "Data Retrieval record 29 , 12 , wewak \n",
      "Data Retrieval record 30 , 12 , timmins \n",
      "Data Retrieval record 31 , 12 , bengkulu \n",
      "Data Retrieval record 32 , 12 , bonthe \n",
      "Data Retrieval record 33 , 12 , suchitlan \n",
      "Data Retrieval record 34 , 12 , tadine \n",
      "Data Retrieval record 35 , 12 , tabas \n",
      "Data Retrieval record 36 , 12 , zavallya \n",
      "Data Retrieval record 37 , 12 , zmeinogorsk \n",
      "Data Retrieval record 38 , 12 , abonnema \n",
      "City not found here ruatoria\n",
      "Data Retrieval record 40 , 12 , poya \n",
      "Data Retrieval record 41 , 12 , constitucion \n",
      "Data Retrieval record 42 , 12 , adrar \n",
      "City not found here dibaya\n",
      "Data Retrieval record 44 , 12 , payo \n",
      "Data Retrieval record 45 , 12 , saint-pierre \n",
      "Data Retrieval record 46 , 12 , jasper \n",
      "City not found here lolua\n",
      "Data Retrieval record 48 , 12 , mattawa \n",
      "Data Retrieval record 49 , 12 , marawi \n",
      "Data Retrieval record 50 , 12 , port-gentil \n"
     ]
    },
    {
     "name": "stdout",
     "output_type": "stream",
     "text": [
      "Data Retrieval record 51 , 12 , tingi \n",
      "Data Retrieval record 1 , 13 , rosetta \n",
      "Data Retrieval record 2 , 13 , ayia galini \n",
      "Data Retrieval record 3 , 13 , petauke \n",
      "Data Retrieval record 4 , 13 , orlik \n",
      "Data Retrieval record 5 , 13 , daokou \n",
      "Data Retrieval record 6 , 13 , muisne \n",
      "Data Retrieval record 7 , 13 , masvingo \n",
      "Data Retrieval record 8 , 13 , mitu \n",
      "City not found here gangotri\n",
      "Data Retrieval record 10 , 13 , springfield \n",
      "Data Retrieval record 11 , 13 , rovaniemi \n",
      "Data Retrieval record 12 , 13 , darab \n"
     ]
    }
   ],
   "source": [
    "#list \n",
    "# 9\n",
    "\n",
    "time.sleep(1)\n",
    "\n",
    "\n",
    "lat = []\n",
    "\n",
    "lng = []\n",
    "\n",
    "temp = []\n",
    "\n",
    "cloudiness = []\n",
    "\n",
    "date = []\n",
    "\n",
    "country = []\n",
    "\n",
    "humiditie = []\n",
    "\n",
    "wind_speed =[]\n",
    "\n",
    "citiesss = []\n",
    "\n",
    "\n",
    "#counter\n",
    "count_record = 0\n",
    "set_num = 1\n",
    "\n",
    "\n",
    "# Loop through the list of cities and perform a request for data on each\n",
    "for city in cities:\n",
    "    \n",
    "     try:\n",
    "        response = requests.get(query_url + city).json()\n",
    "        lat.append(response['coord']['lat'])\n",
    "        temp.append(response['main']['temp'])\n",
    "        lng.append(response['coord']['lon'])\n",
    "        cloudiness.append(response['clouds']['all']) \n",
    "        date.append(response ['dt'])   \n",
    "        country.append(response['sys']['country'])\n",
    "        humiditie.append(response['main']['humidity'])\n",
    "        wind_speed.append(response['wind']['speed'])\n",
    "#cities    \n",
    "                         \n",
    "                         \n",
    "        if count_record > 50:\n",
    "                                                                                      \n",
    "             count_record = 0\n",
    "             set_num = set_num +1\n",
    "             citiesss.append(city)\n",
    "                     \n",
    "        else:\n",
    "             count_record +=1\n",
    "             citiesss.append(city)\n",
    "             print(f\"Data Retrieval record {count_record} , {set_num} , {city} \")\n",
    "\n",
    "                          \n",
    "                    \n",
    "     except:\n",
    "    \n",
    "         count_record = count_record +1\n",
    "         citiesss.append(city)\n",
    "         print(f\"City not found here {city}\")\n"
   ]
  },
  {
   "cell_type": "markdown",
   "metadata": {},
   "source": [
    "## Convert Raw Data to DataFrame\n",
    "* Save as csv"
   ]
  },
  {
   "cell_type": "code",
   "execution_count": 7,
   "metadata": {},
   "outputs": [],
   "source": [
    "# creating a dataframe from cities etc\n",
    "#for reference to create dictionary #lat , #lng , #temp , #cloudiness , #date , #country \n",
    "#humiditie , #wind_speed ,, #citiesss \n",
    "\n",
    "weather_dictionary = {\n",
    "\n",
    "    \"City\": citiesss,\n",
    "    \"Country\": country,\n",
    "    \"Lat\": lat,\n",
    "    \"Lng\": lng,\n",
    "    \"Max Temperature\": temp,\n",
    "    \"Humidity\" : humiditie,\n",
    "    \"Wind speed\" : wind_speed,\n",
    "    \"Date\" : date,\n",
    "    \"Cloudiness\" : cloudiness\n",
    "    \n",
    "}\n",
    "\n",
    "\n",
    "\n",
    "#to check \n",
    "#print(weather_dictionary)\n"
   ]
  },
  {
   "cell_type": "code",
   "execution_count": 8,
   "metadata": {},
   "outputs": [],
   "source": [
    "\n",
    "#weather_df = pd.DataFrame(weather_dictionary)\n",
    "weather_df  = pd.DataFrame.from_dict(weather_dictionary, orient='index')\n",
    "weather_df  = weather_df.transpose()\n",
    "\n"
   ]
  },
  {
   "cell_type": "code",
   "execution_count": 9,
   "metadata": {},
   "outputs": [],
   "source": [
    "#changing to csv\n",
    "#run calls from csv nowonwards\n",
    "weather_df.to_csv(\"output_data/weather_data.csv\")\n"
   ]
  },
  {
   "cell_type": "code",
   "execution_count": null,
   "metadata": {},
   "outputs": [],
   "source": []
  },
  {
   "cell_type": "markdown",
   "metadata": {},
   "source": [
    "## Plotting the Data\n",
    "* Use proper labeling of the plots using plot titles (including date of analysis) and axes labels.\n",
    "* Save the plotted figures as .pngs."
   ]
  },
  {
   "cell_type": "markdown",
   "metadata": {},
   "source": [
    "### Latitude vs. Temperature Plot"
   ]
  },
  {
   "cell_type": "code",
   "execution_count": 10,
   "metadata": {
    "scrolled": true
   },
   "outputs": [
    {
     "data": {
      "image/png": "[encoded data removed]",
      "text/plain": [
       "<Figure size 432x288 with 1 Axes>"
      ]
     },
     "metadata": {
      "needs_background": "light"
     },
     "output_type": "display_data"
    },
    {
     "data": {
      "text/plain": [
       "<Figure size 432x288 with 0 Axes>"
      ]
     },
     "metadata": {},
     "output_type": "display_data"
    }
   ],
   "source": [
    "#Latitude vs. Temperature Plot\n",
    "\n",
    "#datetime\n",
    "t = time.strftime(\"%m/%d/%Y\")\n",
    "#scatterplot\n",
    "plt.scatter(weather_df[\"Lat\"], weather_df[\"Max Temperature\"],facecolors=\"green\")\n",
    "\n",
    "#labels\n",
    "plt.xlabel(\"City Latitude\")\n",
    "plt.ylabel(\"Max Temperature\")\n",
    "plt.title(f\"City Latitude vs Max Temperature({t}) \")\n",
    "#print result\n",
    "plt.show()\n",
    "plt.tight_layout()\n",
    "plt.savefig(\"Figures/fig1.png\")"
   ]
  },
  {
   "cell_type": "markdown",
   "metadata": {},
   "source": [
    "### Latitude vs. Humidity Plot"
   ]
  },
  {
   "cell_type": "code",
   "execution_count": 11,
   "metadata": {},
   "outputs": [
    {
     "data": {
      "image/png": "[encoded data removed]",
      "text/plain": [
       "<Figure size 432x288 with 1 Axes>"
      ]
     },
     "metadata": {
      "needs_background": "light"
     },
     "output_type": "display_data"
    },
    {
     "data": {
      "text/plain": [
       "<Figure size 432x288 with 0 Axes>"
      ]
     },
     "metadata": {},
     "output_type": "display_data"
    }
   ],
   "source": [
    "#Latitude vs. Humidity Plot\n",
    "#datetime\n",
    "t = time.strftime(\"%m/%d/%Y\")\n",
    "#scatterplot\n",
    "plt.scatter(weather_df[\"Lat\"], weather_df[\"Humidity\"],facecolors=\"green\")\n",
    "\n",
    "# labels\n",
    "plt.xlabel(\"City Latitude\")\n",
    "plt.ylabel(\"Humidity\")\n",
    "plt.title(f\"City Latitude vs Humidity({t}) \")\n",
    "#print message\n",
    "plt.show()\n",
    "plt.tight_layout()\n",
    "plt.savefig(\"Figures/fig2.png\")"
   ]
  },
  {
   "cell_type": "markdown",
   "metadata": {},
   "source": [
    "### Latitude vs. Cloudiness Plot"
   ]
  },
  {
   "cell_type": "code",
   "execution_count": 12,
   "metadata": {},
   "outputs": [
    {
     "data": {
      "image/png": "[encoded data removed]",
      "text/plain": [
       "<Figure size 432x288 with 1 Axes>"
      ]
     },
     "metadata": {
      "needs_background": "light"
     },
     "output_type": "display_data"
    },
    {
     "data": {
      "text/plain": [
       "<Figure size 432x288 with 0 Axes>"
      ]
     },
     "metadata": {},
     "output_type": "display_data"
    }
   ],
   "source": [
    "#Latitude vs. Cloudiness Plot\n",
    "#datetime\n",
    "t = time.strftime(\"%m/%d/%Y\")\n",
    "#scatterplot\n",
    "plt.scatter(weather_df[\"Lat\"], weather_df[\"Cloudiness\"],facecolors=\"green\")\n",
    "\n",
    "# plt.scatterplot\n",
    "plt.xlabel(\"City Latitude\")\n",
    "plt.ylabel(\"Cloudiness\")\n",
    "plt.title(f\"City Latitude vs Cloudiness({t}) \")\n",
    "#print result with tight label\n",
    "plt.show()\n",
    "plt.tight_layout()\n",
    "#print result\n",
    "plt.savefig(\"Figures/fig3.png\")"
   ]
  },
  {
   "cell_type": "markdown",
   "metadata": {},
   "source": [
    "### Latitude vs. Wind Speed Plot"
   ]
  },
  {
   "cell_type": "code",
   "execution_count": 13,
   "metadata": {},
   "outputs": [
    {
     "data": {
      "image/png": "[encoded data removed]",
      "text/plain": [
       "<Figure size 432x288 with 1 Axes>"
      ]
     },
     "metadata": {
      "needs_background": "light"
     },
     "output_type": "display_data"
    },
    {
     "data": {
      "text/plain": [
       "<Figure size 432x288 with 0 Axes>"
      ]
     },
     "metadata": {},
     "output_type": "display_data"
    }
   ],
   "source": [
    "#Latitude vs. Wind Speed Plot\n",
    "#datetime\n",
    "t = time.strftime(\"%m/%d/%Y\")\n",
    "plt.scatter(weather_df[\"Lat\"], weather_df[\"Wind speed\"],facecolors=\"green\")\n",
    "\n",
    "# plt.scatterplot\n",
    "plt.xlabel(\"City Latitude\")\n",
    "plt.ylabel(\"Wind Speed\")\n",
    "plt.title(f\"City Latitude vs Wind Speed({t}) \")\n",
    "#print result\n",
    "plt.show()\n",
    "plt.tight_layout()\n",
    "plt.savefig(\"Figures/fig4.png\")"
   ]
  },
  {
   "cell_type": "markdown",
   "metadata": {},
   "source": [
    "## Linear Regression"
   ]
  },
  {
   "cell_type": "markdown",
   "metadata": {},
   "source": [
    "### Write linear regression plot function (optional)"
   ]
  },
  {
   "cell_type": "code",
   "execution_count": 14,
   "metadata": {},
   "outputs": [],
   "source": [
    "#linear regression equation is:\n",
    "#regression_value = x_value * slope + intercept\n",
    "\n",
    "##line equation:\n",
    "#line_equation_value = \"y = \" + str(slope) + \"x + \" + str(intercept)\n",
    "\n",
    "\n",
    "#dataframe\n",
    "#northern hemisphere, greater than 0\n",
    "\n",
    "n = weather_df.Lat >= 0\n",
    "\n",
    "\n",
    "northernhem_df = weather_df[n]\n"
   ]
  },
  {
   "cell_type": "code",
   "execution_count": 15,
   "metadata": {},
   "outputs": [],
   "source": [
    "#souther hemisphere, less than 0\n",
    "s = weather_df.Lat < 0\n",
    "\n",
    "southernhem_df = weather_df[s]\n",
    "\n"
   ]
  },
  {
   "cell_type": "code",
   "execution_count": null,
   "metadata": {},
   "outputs": [],
   "source": []
  },
  {
   "cell_type": "markdown",
   "metadata": {},
   "source": [
    "###  Northern Hemisphere - Max Temp vs. Latitude Linear Regression"
   ]
  },
  {
   "cell_type": "code",
   "execution_count": 16,
   "metadata": {},
   "outputs": [
    {
     "data": {
      "image/png": "[encoded data removed]",
      "text/plain": [
       "<Figure size 432x288 with 1 Axes>"
      ]
     },
     "metadata": {
      "needs_background": "light"
     },
     "output_type": "display_data"
    },
    {
     "data": {
      "text/plain": [
       "<Figure size 432x288 with 0 Axes>"
      ]
     },
     "metadata": {},
     "output_type": "display_data"
    }
   ],
   "source": [
    "#Northern Hemisphere - Max Temp vs. Latitude Linear Regression\n",
    "\n",
    "x_latitude = northernhem_df[\"Lat\"].astype(float)\n",
    "\n",
    "y_temperature = northernhem_df[\"Max Temperature\"].astype(float)\n",
    "\n",
    "(slope, intercept, rvalue, pvalue, stderr) = linregress(x_latitude, y_temperature)\n",
    "#regression value equation\n",
    "regress_val = x_latitude * slope + intercept\n",
    "\n",
    "#line equation:\n",
    "line_equation = \"y = \" + str(slope) + \"x + \" + str(intercept)\n",
    "#scatterplot\n",
    "plt.scatter(x_latitude,y_temperature)\n",
    "plt.plot(x_latitude,regress_val,\"r-\")\n",
    "\n",
    "#labels\n",
    "plt.title('Northern Hemisphere- Max temp vs Latitude Linear Regression')\n",
    "plt.xlabel('Latitude')\n",
    "plt.ylabel('Max temperature')\n",
    "\n",
    "#show results, r value \n",
    "\n",
    "#print(f \" The r-squared value here is {rvalue}\")\n",
    "plt.show()\n",
    "plt.tight_layout()\n",
    "plt.savefig(\"Figures/fig5.png\")"
   ]
  },
  {
   "cell_type": "markdown",
   "metadata": {},
   "source": [
    "###  Southern Hemisphere - Max Temp vs. Latitude Linear Regression"
   ]
  },
  {
   "cell_type": "code",
   "execution_count": 17,
   "metadata": {},
   "outputs": [
    {
     "data": {
      "image/png": "[encoded data removed]",
      "text/plain": [
       "<Figure size 432x288 with 1 Axes>"
      ]
     },
     "metadata": {
      "needs_background": "light"
     },
     "output_type": "display_data"
    },
    {
     "data": {
      "text/plain": [
       "<Figure size 432x288 with 0 Axes>"
      ]
     },
     "metadata": {},
     "output_type": "display_data"
    }
   ],
   "source": [
    "#S Hemisphere - Max Temp vs. Latitude Linear Regression\n",
    "\n",
    "x_latitude = southernhem_df['Lat'].astype(float)\n",
    "y_temperature = southernhem_df['Max Temperature'].astype(float)\n",
    "\n",
    "(slope, intercept, rvalue, pvalue, stderr) = linregress(x_latitude, y_temperature)\n",
    "#regression value equation\n",
    "regress_val = x_latitude * slope + intercept\n",
    "\n",
    "#line equation:\n",
    "line_equation = \"y = \" + str(slope) + \"x + \" + str(intercept)\n",
    "#scatterplot\n",
    "plt.scatter(x_latitude,y_temperature)\n",
    "plt.plot(x_latitude,regress_val,\"r-\")\n",
    "\n",
    "#labels\n",
    "plt.title('Southern Hemisphere- Max temp vs Latitude Linear Regression')\n",
    "plt.xlabel('Latitude')\n",
    "plt.ylabel('Max temperature')\n",
    "\n",
    "#show results, r value \n",
    "plt.show()\n",
    "plt.tight_layout()\n",
    "plt.savefig(\"Figures/fig6.png\")"
   ]
  },
  {
   "cell_type": "markdown",
   "metadata": {},
   "source": [
    "###  Northern Hemisphere - Humidity (%) vs. Latitude Linear Regression"
   ]
  },
  {
   "cell_type": "code",
   "execution_count": 18,
   "metadata": {},
   "outputs": [
    {
     "data": {
      "image/png": "[encoded data removed]",
      "text/plain": [
       "<Figure size 432x288 with 1 Axes>"
      ]
     },
     "metadata": {
      "needs_background": "light"
     },
     "output_type": "display_data"
    },
    {
     "data": {
      "text/plain": [
       "<Figure size 432x288 with 0 Axes>"
      ]
     },
     "metadata": {},
     "output_type": "display_data"
    }
   ],
   "source": [
    "#Northern Hemisphere - HUmidity vs. Latitude Linear Regression\n",
    "\n",
    "x_latitude = northernhem_df['Lat'].astype(float)\n",
    "y_hum = northernhem_df['Humidity'].astype(float)\n",
    "\n",
    "(slope, intercept, rvalue, pvalue, stderr) = linregress(x_latitude, y_hum)\n",
    "#regression value equation\n",
    "regress_val = x_latitude * slope + intercept\n",
    "\n",
    "#line equation:\n",
    "line_equation = \"y = \" + str(slope) + \"x + \" + str(intercept)\n",
    "#scatterplot\n",
    "plt.scatter(x_latitude,y_hum)\n",
    "plt.plot(x_latitude,regress_val,\"r-\")\n",
    "\n",
    "#labels\n",
    "plt.title('Northern Hemisphere- Humidity vs Latitude Linear Regression')\n",
    "plt.xlabel('Latitude')\n",
    "plt.ylabel('Humidity')\n",
    "\n",
    "#show results, r value \n",
    "\n",
    "plt.show()\n",
    "plt.tight_layout()\n",
    "\n",
    "plt.savefig(\"Figures/fig7.png\")"
   ]
  },
  {
   "cell_type": "markdown",
   "metadata": {},
   "source": [
    "###  Southern Hemisphere - Humidity (%) vs. Latitude Linear Regression"
   ]
  },
  {
   "cell_type": "code",
   "execution_count": 19,
   "metadata": {},
   "outputs": [
    {
     "data": {
      "image/png": "[encoded data removed]",
      "text/plain": [
       "<Figure size 432x288 with 1 Axes>"
      ]
     },
     "metadata": {
      "needs_background": "light"
     },
     "output_type": "display_data"
    },
    {
     "data": {
      "text/plain": [
       "<Figure size 432x288 with 0 Axes>"
      ]
     },
     "metadata": {},
     "output_type": "display_data"
    }
   ],
   "source": [
    "#Southern Hemisphere - HUmidity vs. Latitude Linear Regression\n",
    "\n",
    "x_latitude = southernhem_df['Lat'].astype(float)\n",
    "y_hum = southernhem_df['Humidity'].astype(float)\n",
    "\n",
    "(slope, intercept, rvalue, pvalue, stderr) = linregress(x_latitude, y_hum)\n",
    "#regression value equation\n",
    "regress_val = x_latitude * slope + intercept\n",
    "\n",
    "#line equation:\n",
    "line_equation = \"y = \" + str(slope) + \"x + \" + str(intercept)\n",
    "#scatterplot\n",
    "plt.scatter(x_latitude,y_hum)\n",
    "plt.plot(x_latitude,regress_val,\"r-\")\n",
    "\n",
    "#labels\n",
    "plt.title('Southern Hemisphere- Humidity vs Latitude Linear Regression')\n",
    "plt.xlabel('Latitude')\n",
    "plt.ylabel('Humidity')\n",
    "\n",
    "#show results, r value \n",
    "plt.show()\n",
    "plt.tight_layout()\n",
    "plt.savefig(\"Figures/fig8.png\")"
   ]
  },
  {
   "cell_type": "markdown",
   "metadata": {},
   "source": [
    "###  Northern Hemisphere - Cloudiness (%) vs. Latitude Linear Regression"
   ]
  },
  {
   "cell_type": "code",
   "execution_count": 20,
   "metadata": {},
   "outputs": [
    {
     "data": {
      "image/png": "[encoded data removed]",
      "text/plain": [
       "<Figure size 432x288 with 1 Axes>"
      ]
     },
     "metadata": {
      "needs_background": "light"
     },
     "output_type": "display_data"
    },
    {
     "data": {
      "text/plain": [
       "<Figure size 432x288 with 0 Axes>"
      ]
     },
     "metadata": {},
     "output_type": "display_data"
    }
   ],
   "source": [
    "#Northern Hemisphere - Cloudiness vs. Latitude Linear Regression\n",
    "\n",
    "x_latitude = northernhem_df['Lat'].astype(float)\n",
    "y_c = northernhem_df['Cloudiness'].astype(float)\n",
    "\n",
    "(slope, intercept, rvalue, pvalue, stderr) = linregress(x_latitude, y_c)\n",
    "#regression value equation\n",
    "regress_val = x_latitude * slope + intercept\n",
    "\n",
    "#line equation:\n",
    "line_equation = \"y = \" + str(slope) + \"x + \" + str(intercept)\n",
    "#scatterplot\n",
    "plt.scatter(x_latitude,y_c)\n",
    "plt.plot(x_latitude,regress_val,\"r-\")\n",
    "\n",
    "#labels\n",
    "plt.title('Northern Hemisphere- Cloudiness vs Latitude Linear Regression')\n",
    "plt.xlabel('Latitude')\n",
    "plt.ylabel('Cloudiness')\n",
    "\n",
    "#show results, r value \n",
    "\n",
    "plt.show()\n",
    "plt.tight_layout()\n",
    "plt.savefig(\"Figures/fig9.png\")"
   ]
  },
  {
   "cell_type": "markdown",
   "metadata": {},
   "source": [
    "###  Southern Hemisphere - Cloudiness (%) vs. Latitude Linear Regression"
   ]
  },
  {
   "cell_type": "code",
   "execution_count": 21,
   "metadata": {},
   "outputs": [
    {
     "data": {
      "image/png": "[encoded data removed]",
      "text/plain": [
       "<Figure size 432x288 with 1 Axes>"
      ]
     },
     "metadata": {
      "needs_background": "light"
     },
     "output_type": "display_data"
    },
    {
     "data": {
      "text/plain": [
       "<Figure size 432x288 with 0 Axes>"
      ]
     },
     "metadata": {},
     "output_type": "display_data"
    }
   ],
   "source": [
    "#S Hemisphere - Cloudiness vs. Latitude Linear Regression\n",
    "\n",
    "x_latitude = southernhem_df['Lat'].astype(float)\n",
    "y_c = southernhem_df['Cloudiness'].astype(float)\n",
    "(slope, intercept, rvalue, pvalue, stderr) = linregress(x_latitude, y_c)\n",
    "#regression value equation\n",
    "regress_val = x_latitude * slope + intercept\n",
    "\n",
    "#line equation:\n",
    "line_equation = \"y = \" + str(slope) + \"x + \" + str(intercept)\n",
    "#scatterplot\n",
    "plt.scatter(x_latitude,y_c)\n",
    "plt.plot(x_latitude,regress_val,\"r-\")\n",
    "\n",
    "#labels\n",
    "plt.title('Southern Hemisphere- Cloudiness vs Latitude Linear Regression')\n",
    "plt.xlabel('Latitude')\n",
    "plt.ylabel('Cloudiness')\n",
    "\n",
    "#show results, r value \n",
    "\n",
    "plt.show()\n",
    "plt.tight_layout()\n",
    "plt.savefig(\"Figures/fig10.png\")"
   ]
  },
  {
   "cell_type": "markdown",
   "metadata": {},
   "source": [
    "###  Northern Hemisphere - Wind Speed (mph) vs. Latitude Linear Regression"
   ]
  },
  {
   "cell_type": "code",
   "execution_count": 22,
   "metadata": {},
   "outputs": [
    {
     "data": {
      "image/png": "[encoded data removed]",
      "text/plain": [
       "<Figure size 432x288 with 1 Axes>"
      ]
     },
     "metadata": {
      "needs_background": "light"
     },
     "output_type": "display_data"
    },
    {
     "data": {
      "text/plain": [
       "<Figure size 432x288 with 0 Axes>"
      ]
     },
     "metadata": {},
     "output_type": "display_data"
    }
   ],
   "source": [
    "#northern hem\n",
    "\n",
    "x_latitude = northernhem_df['Lat'].astype(float)\n",
    "y_s = northernhem_df['Wind speed'].astype(float)\n",
    "(slope, intercept, rvalue, pvalue, stderr) = linregress(x_latitude, y_s)\n",
    "#regression value equation\n",
    "regress_val = x_latitude * slope + intercept\n",
    "\n",
    "#line equation:\n",
    "line_equation = \"y = \" + str(slope) + \"x + \" + str(intercept)\n",
    "#scatterplot\n",
    "plt.scatter(x_latitude,y_s)\n",
    "plt.plot(x_latitude,regress_val,\"r-\")\n",
    "\n",
    "#labels\n",
    "plt.title('Northern Hemisphere- Wind Speed vs Latitude Linear Regression')\n",
    "plt.xlabel('Latitude')\n",
    "plt.ylabel('Wind Speed')\n",
    "\n",
    "#show results, tight layout\n",
    "plt.show()\n",
    "plt.tight_layout()\n",
    "plt.savefig(\"Figures/fig11.png\")"
   ]
  },
  {
   "cell_type": "markdown",
   "metadata": {},
   "source": [
    "###  Southern Hemisphere - Wind Speed (mph) vs. Latitude Linear Regression"
   ]
  },
  {
   "cell_type": "code",
   "execution_count": 23,
   "metadata": {},
   "outputs": [
    {
     "data": {
      "image/png": "[encoded data removed]",
      "text/plain": [
       "<Figure size 432x288 with 1 Axes>"
      ]
     },
     "metadata": {
      "needs_background": "light"
     },
     "output_type": "display_data"
    },
    {
     "data": {
      "text/plain": [
       "<Figure size 432x288 with 0 Axes>"
      ]
     },
     "metadata": {},
     "output_type": "display_data"
    }
   ],
   "source": [
    "#southern hem\n",
    "\n",
    "x_latitude = southernhem_df['Lat'].astype(float)\n",
    "y_s = southernhem_df['Wind speed'].astype(float)\n",
    "(slope, intercept, rvalue, pvalue, stderr) = linregress(x_latitude, y_s)\n",
    "#regression value equation\n",
    "regress_val = x_latitude * slope + intercept\n",
    "\n",
    "#line equation:\n",
    "line_equation = \"y = \" + str(slope) + \"x + \" + str(intercept)\n",
    "#scatterplot\n",
    "plt.scatter(x_latitude,y_s)\n",
    "plt.plot(x_latitude,regress_val,\"r-\")\n",
    "\n",
    "#labels\n",
    "plt.title('Southern Hemisphere- Wind Speed vs Latitude Linear Regression')\n",
    "plt.xlabel('Latitude')\n",
    "plt.ylabel('Wind Speed')\n",
    "\n",
    "#show results, tight layout\n",
    "\n",
    "plt.show()\n",
    "plt.tight_layout()\n",
    "plt.savefig(\"Figures/fig12.png\")"
   ]
  },
  {
   "cell_type": "code",
   "execution_count": 24,
   "metadata": {},
   "outputs": [],
   "source": [
    "#Observations:\n",
    "# 1) For the northern hemisphere, max temperture and latitude had a negative linear correlation.\n",
    "# 2) In the southern hemisphere on the otherhand, max temperture and latitude had more of a positive correlation.\n",
    "# 3) Interestly, both in the northern hemisphere and southern hemisphere, the cloudiness and latitude \n",
    "#    had a mostly positive correlation\n"
   ]
  },
  {
   "cell_type": "code",
   "execution_count": null,
   "metadata": {},
   "outputs": [],
   "source": []
  },
  {
   "cell_type": "code",
   "execution_count": null,
   "metadata": {},
   "outputs": [],
   "source": []
  },
  {
   "cell_type": "code",
   "execution_count": null,
   "metadata": {},
   "outputs": [],
   "source": []
  }
 ],
 "metadata": {
  "anaconda-cloud": {},
  "kernel_info": {
   "name": "python3"
  },
  "kernelspec": {
   "display_name": "Python 3",
   "language": "python",
   "name": "python3"
  },
  "language_info": {
   "codemirror_mode": {
    "name": "ipython",
    "version": 3
   },
   "file_extension": ".py",
   "mimetype": "text/x-python",
   "name": "python",
   "nbconvert_exporter": "python",
   "pygments_lexer": "ipython3",
   "version": "3.6.10"
  },
  "latex_envs": {
   "LaTeX_envs_menu_present": true,
   "autoclose": false,
   "autocomplete": true,
   "bibliofile": "biblio.bib",
   "cite_by": "apalike",
   "current_citInitial": 1,
   "eqLabelWithNumbers": true,
   "eqNumInitial": 1,
   "hotkeys": {
    "equation": "Ctrl-E",
    "itemize": "Ctrl-I"
   },
   "labels_anchors": false,
   "latex_user_defs": false,
   "report_style_numbering": false,
   "user_envs_cfg": false
  },
  "nteract": {
   "version": "0.12.3"
  },
  "toc": {
   "base_numbering": 1,
   "nav_menu": {},
   "number_sections": true,
   "sideBar": true,
   "skip_h1_title": false,
   "title_cell": "Table of Contents",
   "title_sidebar": "Contents",
   "toc_cell": false,
   "toc_position": {},
   "toc_section_display": true,
   "toc_window_display": false
  },
  "varInspector": {
   "cols": {
    "lenName": 16,
    "lenType": 16,
    "lenVar": 40
   },
   "kernels_config": {
    "python": {
     "delete_cmd_postfix": "",
     "delete_cmd_prefix": "del ",
     "library": "var_list.py",
     "varRefreshCmd": "print(var_dic_list())"
    },
    "r": {
     "delete_cmd_postfix": ") ",
     "delete_cmd_prefix": "rm(",
     "library": "var_list.r",
     "varRefreshCmd": "cat(var_dic_list()) "
    }
   },
   "types_to_exclude": [
    "module",
    "function",
    "builtin_function_or_method",
    "instance",
    "_Feature"
   ],
   "window_display": false
  }
 },
 "nbformat": 4,
 "nbformat_minor": 2
}
