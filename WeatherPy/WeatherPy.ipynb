{
 "cells": [
  {
   "cell_type": "markdown",
   "metadata": {},
   "source": [
    "# WeatherPy\n",
    "----\n",
    "\n",
    "#### Note\n",
    "* Instructions have been included for each segment. You do not have to follow them exactly, but they are included to help you think through the steps."
   ]
  },
  {
   "cell_type": "code",
   "execution_count": 1,
   "metadata": {
    "scrolled": true
   },
   "outputs": [],
   "source": [
    "# Dependencies and Setup\n",
    "import matplotlib.pyplot as plt\n",
    "import pandas as pd\n",
    "import numpy as np\n",
    "import requests\n",
    "import time\n",
    "import json\n",
    "import datetime\n",
    "from scipy.stats import linregress\n",
    "\n",
    "# Import API key\n",
    "\n",
    "from api_keys import weather_api_key\n",
    "\n",
    "# Incorporated citipy to determine city based on latitude and longitude\n",
    "from citipy import citipy\n",
    "\n",
    "# Output File (CSV)\n",
    "output_data_file = \"output_data/cities.csv\"\n",
    "\n",
    "# Range of latitudes and longitudes\n",
    "lat_range = (-90, 90)\n",
    "lng_range = (-180, 180)"
   ]
  },
  {
   "cell_type": "code",
   "execution_count": 2,
   "metadata": {},
   "outputs": [
    {
     "data": {
      "text/html": [
       "<div>\n",
       "<style scoped>\n",
       "    .dataframe tbody tr th:only-of-type {\n",
       "        vertical-align: middle;\n",
       "    }\n",
       "\n",
       "    .dataframe tbody tr th {\n",
       "        vertical-align: top;\n",
       "    }\n",
       "\n",
       "    .dataframe thead th {\n",
       "        text-align: right;\n",
       "    }\n",
       "</style>\n",
       "<table border=\"1\" class=\"dataframe\">\n",
       "  <thead>\n",
       "    <tr style=\"text-align: right;\">\n",
       "      <th></th>\n",
       "      <th>City_ID</th>\n",
       "      <th>City</th>\n",
       "      <th>Cloudiness</th>\n",
       "      <th>Country</th>\n",
       "      <th>Date</th>\n",
       "      <th>Humidity</th>\n",
       "      <th>Lat</th>\n",
       "      <th>Lng</th>\n",
       "      <th>Max Temp</th>\n",
       "      <th>Wind Speed</th>\n",
       "    </tr>\n",
       "  </thead>\n",
       "  <tbody>\n",
       "    <tr>\n",
       "      <th>0</th>\n",
       "      <td>0</td>\n",
       "      <td>ostrovnoy</td>\n",
       "      <td>2</td>\n",
       "      <td>RU</td>\n",
       "      <td>1558378754</td>\n",
       "      <td>72</td>\n",
       "      <td>68.05</td>\n",
       "      <td>39.51</td>\n",
       "      <td>37.50</td>\n",
       "      <td>7.16</td>\n",
       "    </tr>\n",
       "    <tr>\n",
       "      <th>1</th>\n",
       "      <td>1</td>\n",
       "      <td>mahebourg</td>\n",
       "      <td>75</td>\n",
       "      <td>MU</td>\n",
       "      <td>1558378503</td>\n",
       "      <td>74</td>\n",
       "      <td>-20.41</td>\n",
       "      <td>57.70</td>\n",
       "      <td>78.80</td>\n",
       "      <td>11.41</td>\n",
       "    </tr>\n",
       "    <tr>\n",
       "      <th>2</th>\n",
       "      <td>2</td>\n",
       "      <td>qaanaaq</td>\n",
       "      <td>25</td>\n",
       "      <td>GL</td>\n",
       "      <td>1558378755</td>\n",
       "      <td>73</td>\n",
       "      <td>77.48</td>\n",
       "      <td>-69.36</td>\n",
       "      <td>22.20</td>\n",
       "      <td>2.37</td>\n",
       "    </tr>\n",
       "    <tr>\n",
       "      <th>3</th>\n",
       "      <td>3</td>\n",
       "      <td>zhuhai</td>\n",
       "      <td>0</td>\n",
       "      <td>CN</td>\n",
       "      <td>1558378755</td>\n",
       "      <td>39</td>\n",
       "      <td>40.71</td>\n",
       "      <td>112.04</td>\n",
       "      <td>44.60</td>\n",
       "      <td>4.47</td>\n",
       "    </tr>\n",
       "    <tr>\n",
       "      <th>4</th>\n",
       "      <td>4</td>\n",
       "      <td>cape town</td>\n",
       "      <td>20</td>\n",
       "      <td>ZA</td>\n",
       "      <td>1558378755</td>\n",
       "      <td>76</td>\n",
       "      <td>-33.93</td>\n",
       "      <td>18.42</td>\n",
       "      <td>55.99</td>\n",
       "      <td>8.05</td>\n",
       "    </tr>\n",
       "    <tr>\n",
       "      <th>...</th>\n",
       "      <td>...</td>\n",
       "      <td>...</td>\n",
       "      <td>...</td>\n",
       "      <td>...</td>\n",
       "      <td>...</td>\n",
       "      <td>...</td>\n",
       "      <td>...</td>\n",
       "      <td>...</td>\n",
       "      <td>...</td>\n",
       "      <td>...</td>\n",
       "    </tr>\n",
       "    <tr>\n",
       "      <th>543</th>\n",
       "      <td>543</td>\n",
       "      <td>yabrud</td>\n",
       "      <td>0</td>\n",
       "      <td>SY</td>\n",
       "      <td>1558378840</td>\n",
       "      <td>32</td>\n",
       "      <td>33.97</td>\n",
       "      <td>36.66</td>\n",
       "      <td>80.60</td>\n",
       "      <td>8.05</td>\n",
       "    </tr>\n",
       "    <tr>\n",
       "      <th>544</th>\n",
       "      <td>544</td>\n",
       "      <td>paraiso</td>\n",
       "      <td>5</td>\n",
       "      <td>MX</td>\n",
       "      <td>1558378898</td>\n",
       "      <td>4</td>\n",
       "      <td>24.01</td>\n",
       "      <td>-104.61</td>\n",
       "      <td>84.20</td>\n",
       "      <td>16.11</td>\n",
       "    </tr>\n",
       "    <tr>\n",
       "      <th>545</th>\n",
       "      <td>545</td>\n",
       "      <td>veraval</td>\n",
       "      <td>0</td>\n",
       "      <td>FR</td>\n",
       "      <td>1558378898</td>\n",
       "      <td>62</td>\n",
       "      <td>49.65</td>\n",
       "      <td>0.71</td>\n",
       "      <td>61.00</td>\n",
       "      <td>8.05</td>\n",
       "    </tr>\n",
       "    <tr>\n",
       "      <th>546</th>\n",
       "      <td>546</td>\n",
       "      <td>novyy urgal</td>\n",
       "      <td>100</td>\n",
       "      <td>RU</td>\n",
       "      <td>1558378899</td>\n",
       "      <td>93</td>\n",
       "      <td>51.07</td>\n",
       "      <td>132.56</td>\n",
       "      <td>49.74</td>\n",
       "      <td>2.68</td>\n",
       "    </tr>\n",
       "    <tr>\n",
       "      <th>547</th>\n",
       "      <td>547</td>\n",
       "      <td>tongren</td>\n",
       "      <td>4</td>\n",
       "      <td>CN</td>\n",
       "      <td>1558378899</td>\n",
       "      <td>64</td>\n",
       "      <td>27.72</td>\n",
       "      <td>109.18</td>\n",
       "      <td>55.86</td>\n",
       "      <td>2.84</td>\n",
       "    </tr>\n",
       "  </tbody>\n",
       "</table>\n",
       "<p>548 rows × 10 columns</p>\n",
       "</div>"
      ],
      "text/plain": [
       "     City_ID         City  Cloudiness Country        Date  Humidity    Lat  \\\n",
       "0          0    ostrovnoy           2      RU  1558378754        72  68.05   \n",
       "1          1    mahebourg          75      MU  1558378503        74 -20.41   \n",
       "2          2      qaanaaq          25      GL  1558378755        73  77.48   \n",
       "3          3       zhuhai           0      CN  1558378755        39  40.71   \n",
       "4          4    cape town          20      ZA  1558378755        76 -33.93   \n",
       "..       ...          ...         ...     ...         ...       ...    ...   \n",
       "543      543       yabrud           0      SY  1558378840        32  33.97   \n",
       "544      544      paraiso           5      MX  1558378898         4  24.01   \n",
       "545      545      veraval           0      FR  1558378898        62  49.65   \n",
       "546      546  novyy urgal         100      RU  1558378899        93  51.07   \n",
       "547      547      tongren           4      CN  1558378899        64  27.72   \n",
       "\n",
       "        Lng  Max Temp  Wind Speed  \n",
       "0     39.51     37.50        7.16  \n",
       "1     57.70     78.80       11.41  \n",
       "2    -69.36     22.20        2.37  \n",
       "3    112.04     44.60        4.47  \n",
       "4     18.42     55.99        8.05  \n",
       "..      ...       ...         ...  \n",
       "543   36.66     80.60        8.05  \n",
       "544 -104.61     84.20       16.11  \n",
       "545    0.71     61.00        8.05  \n",
       "546  132.56     49.74        2.68  \n",
       "547  109.18     55.86        2.84  \n",
       "\n",
       "[548 rows x 10 columns]"
      ]
     },
     "execution_count": 2,
     "metadata": {},
     "output_type": "execute_result"
    }
   ],
   "source": [
    "#For reference\n",
    "dataset_df = pd.read_csv('../output_data/cities.csv')\n",
    "dataset_df"
   ]
  },
  {
   "cell_type": "markdown",
   "metadata": {},
   "source": [
    "## Generate Cities List"
   ]
  },
  {
   "cell_type": "code",
   "execution_count": null,
   "metadata": {},
   "outputs": [],
   "source": [
    "# List for holding lat_lngs and cities\n",
    "lat_lngs = []\n",
    "cities = []\n",
    "\n",
    "# Create a set of random lat and lng combinations\n",
    "lats = np.random.uniform(lat_range[0], lat_range[1], size=1500)\n",
    "lngs = np.random.uniform(lng_range[0], lng_range[1], size=1500)\n",
    "lat_lngs = zip(lats, lngs)\n",
    "\n",
    "# Identify nearest city for each lat, lng combination\n",
    "for lat_lng in lat_lngs:\n",
    "    city = citipy.nearest_city(lat_lng[0], lat_lng[1]).city_name\n",
    "    \n",
    "    # If the city is unique, then add it to a our cities list\n",
    "    if city not in cities:\n",
    "        cities.append(city)\n",
    "\n",
    "# Print the city count to confirm sufficient count\n",
    "len(cities)"
   ]
  },
  {
   "cell_type": "markdown",
   "metadata": {},
   "source": [
    "## Perform API Calls\n",
    "* Perform a weather check on each city using a series of successive API calls.\n",
    "* Include a print log of each city as it'sbeing processed (with the city number and city name).\n"
   ]
  },
  {
   "cell_type": "code",
   "execution_count": null,
   "metadata": {
    "scrolled": true
   },
   "outputs": [],
   "source": [
    "#weather api\n",
    "url = \"http://api.openweathermap.org/data/2.5/weather?\"\n",
    "\n",
    "#dataframe\n",
    "w_df = pd.DataFrame({\"City\": cities})\n",
    "\n",
    "#counter\n",
    "count_record = 0\n",
    "set_num = 1\n",
    "\n",
    "w_df[\"Country\"] = \"\"\n",
    "w_df[\"Date\"] = \"\"\n",
    "w_df[\"Latitude\"] = \"\"\n",
    "w_df[\"Longitude\"] = \"\"\n",
    "w_df[\"Cloudiness\"] = \"\"\n",
    "w_df[\"Humidity\"] = \"\"\n",
    "w_df[\"Max Temperature\"] = \"\"\n",
    "w_df[\"Wind Speed\"] = \"\"\n",
    "\n",
    "#print title\n",
    "print(\"Beginning Data Retrieval\")\n",
    "\n",
    "#usefor loop\n",
    "\n",
    "for index, row in w_df.iterrows():\n",
    "    city = row[\"City\"]\n",
    "    \n",
    "#query url,\n",
    "    query_url = url + \"&q=\" + city + \"appid=\" + weather_api_key\n",
    "    \n",
    "#get response\n",
    "    weather_res = requests.get(query_url).json\n",
    "    \n",
    "    try:\n",
    "        w_df.loc[index, \"Country\"] = weather_res[\"sys\"][\"country\"]  \n",
    "        w_df.loc[index, \"Date\"] = datetime.datetime.fromtimestamp(weather_response[\"dt\"]\n",
    "        w_df.loc[index, \"Latitude\"] = weather_res['coord']['lat']\n",
    "        w_df.loc[index, \"Longitude\"] = weather_res['coord']['lon']    \n",
    "        w_df.loc[index, \"Cloudiness\"] = weather_res['clouds']['all']\n",
    "        w_df.loc[index, \"Humidity\"] = weather_res['main']['humidity']\n",
    "        #temp formula\n",
    "        w_df.loc[index, \"Main Temperature\"] = 1.8*(weather_res['main']['temp_max'] -273) +32\n",
    "        w_df.loc[index, \"Wind Speed\"] = weather_res['wind']['speed']\n",
    "   \n",
    "     except:\n",
    "     \n",
    "         print(f\"City not found here {city}\")\n",
    "         count_record = count_record +1\n",
    "                                                                  \n",
    " #if count ==50                                                           \n",
    "     if count_record ==50:\n",
    "                                                                  \n",
    "  #then,\n",
    "         count_record = 0\n",
    "         set_num = set_num +1\n",
    "                                                                  \n",
    "        \n",
    "print(\"Data Retrieval Complete\")                                                               "
   ]
  },
  {
   "cell_type": "markdown",
   "metadata": {},
   "source": [
    "## Convert Raw Data to DataFrame\n",
    "* Save as csv"
   ]
  },
  {
   "cell_type": "code",
   "execution_count": null,
   "metadata": {},
   "outputs": [],
   "source": [
    "#show table below\n",
    "w_df.head(10)"
   ]
  },
  {
   "cell_type": "code",
   "execution_count": null,
   "metadata": {},
   "outputs": [],
   "source": [
    "#changing to csv\n",
    "w_df.to_csv(\"w_df.csv\")"
   ]
  },
  {
   "cell_type": "markdown",
   "metadata": {},
   "source": [
    "## Plotting the Data\n",
    "* Use proper labeling of the plots using plot titles (including date of analysis) and axes labels.\n",
    "* Save the plotted figures as .pngs."
   ]
  },
  {
   "cell_type": "markdown",
   "metadata": {},
   "source": [
    "### Latitude vs. Temperature Plot"
   ]
  },
  {
   "cell_type": "code",
   "execution_count": null,
   "metadata": {
    "scrolled": true
   },
   "outputs": [],
   "source": [
    "#Latitude vs. Temperature Plot\n",
    "\n",
    "#datetime\n",
    "t = time.strftime(\"%m/%d/%Y\")\n",
    "#scatterplot\n",
    "plt.scatter(w_df[\"Latitude\"], w_df[\"Max Temperature\"],facecolors=\"green\")\n",
    "\n",
    "#labels\n",
    "plt.xlabel(\"City Latitude\")\n",
    "plt.ylabel(\"Max Temperature\")\n",
    "plt.title(f\"City Latitude vs Max Temperature({t}) \")\n",
    "#print result\n",
    "plt.show()\n",
    "plt.tight_layout()"
   ]
  },
  {
   "cell_type": "markdown",
   "metadata": {},
   "source": [
    "### Latitude vs. Humidity Plot"
   ]
  },
  {
   "cell_type": "code",
   "execution_count": null,
   "metadata": {},
   "outputs": [],
   "source": [
    "#Latitude vs. Humidity Plot\n",
    "#datetime\n",
    "t = time.strftime(\"%m/%d/%Y\")\n",
    "#scatterplot\n",
    "plt.scatter(w_df[\"Latitude\"], w_df[\"Humidity\"],facecolors=\"green\")\n",
    "\n",
    "# labels\n",
    "plt.xlabel(\"City Latitude\")\n",
    "plt.ylabel(\"Humidity\")\n",
    "plt.title(f\"City Latitude vs Humidity({t}) \")\n",
    "#print message\n",
    "plt.show()\n",
    "plt.tight_layout()\n"
   ]
  },
  {
   "cell_type": "markdown",
   "metadata": {},
   "source": [
    "### Latitude vs. Cloudiness Plot"
   ]
  },
  {
   "cell_type": "code",
   "execution_count": null,
   "metadata": {},
   "outputs": [],
   "source": [
    "#Latitude vs. Cloudiness Plot\n",
    "#datetime\n",
    "t = time.strftime(\"%m/%d/%Y\")\n",
    "#scatterplot\n",
    "plt.scatter(w_df[\"Latitude\"], w_df[\"Cloudiness\"],facecolors=\"green\")\n",
    "\n",
    "# plt.scatterplot\n",
    "plt.xlabel(\"City Latitude\")\n",
    "plt.ylabel(\"Cloudiness\")\n",
    "plt.title(f\"City Latitude vs Cloudiness({t}) \")\n",
    "#print result with tight label\n",
    "plt.show()\n",
    "plt.tight_layout()\n",
    "#print result"
   ]
  },
  {
   "cell_type": "markdown",
   "metadata": {},
   "source": [
    "### Latitude vs. Wind Speed Plot"
   ]
  },
  {
   "cell_type": "code",
   "execution_count": null,
   "metadata": {},
   "outputs": [],
   "source": [
    "#Latitude vs. Wind Speed Plot\n",
    "#datetime\n",
    "t = time.strftime(\"%m/%d/%Y\")\n",
    "plt.scatter(w_df[\"Latitude\"], w_df[\"Wind Speed\"],facecolors=\"green\")\n",
    "\n",
    "# plt.scatterplot\n",
    "plt.xlabel(\"City Latitude\")\n",
    "plt.ylabel(\"Wind Speed\")\n",
    "plt.title(f\"City Latitude vs Wind Speed({t}) \")\n",
    "#print result\n",
    "plt.show()\n",
    "plt.tight_layout()\n"
   ]
  },
  {
   "cell_type": "markdown",
   "metadata": {},
   "source": [
    "## Linear Regression"
   ]
  },
  {
   "cell_type": "markdown",
   "metadata": {},
   "source": [
    "### Write linear regression plot function (optional)"
   ]
  },
  {
   "cell_type": "code",
   "execution_count": 3,
   "metadata": {},
   "outputs": [],
   "source": [
    "#linear regression equation is:\n",
    "#regression_value = x_value * slope + intercept\n",
    "\n",
    "##line equation:\n",
    "#line_equation_value = \"y = \" + str(slope) + \"x + \" + str(intercept)"
   ]
  },
  {
   "cell_type": "code",
   "execution_count": null,
   "metadata": {},
   "outputs": [],
   "source": [
    "#dataframe\n",
    "#northern hemisphere, greater than 0\n",
    "northernhem_df = w_df[\"Latitude\"] > 0"
   ]
  },
  {
   "cell_type": "code",
   "execution_count": null,
   "metadata": {},
   "outputs": [],
   "source": [
    "#souther hemisphere, less than 0\n",
    "southernhem_df = w_df[\"Latitude\"] < 0"
   ]
  },
  {
   "cell_type": "markdown",
   "metadata": {},
   "source": [
    "###  Northern Hemisphere - Max Temp vs. Latitude Linear Regression"
   ]
  },
  {
   "cell_type": "code",
   "execution_count": null,
   "metadata": {},
   "outputs": [],
   "source": [
    "#Northern Hemisphere - Max Temp vs. Latitude Linear Regression\n",
    "\n",
    "x_latitude = northernhem_df['Latitude']\n",
    "y_temperature = northernhem_df['Max Temperature']\n",
    "\n",
    "(slope, intercept, rvalue, pvalue, stderr) = linregress(x_latitude, y_temperature)\n",
    "#regression value equation\n",
    "regress_val = x_latitude * slope + intercept\n",
    "\n",
    "#line equation:\n",
    "line_equation = \"y = \" + str(slope) + \"x + \" + str(intercept)\n",
    "#scatterplot\n",
    "plt.scatter(x_latitude,y_temperature)\n",
    "plt.plot(x_latitude,regress_val,\"r-\")\n",
    "\n",
    "#labels\n",
    "plt.title('Northern Hemisphere- Max temp vs Latitude Linear Regression')\n",
    "plt.xlabel('Latitude')\n",
    "plt.ylabel('Max temperature')\n",
    "\n",
    "#show results, r value \n",
    "\n",
    "#print(f \" The r-squared value here is {rvalue}\")\n",
    "plt.show()\n",
    "plt.tight_layout()\n"
   ]
  },
  {
   "cell_type": "markdown",
   "metadata": {},
   "source": [
    "###  Southern Hemisphere - Max Temp vs. Latitude Linear Regression"
   ]
  },
  {
   "cell_type": "code",
   "execution_count": null,
   "metadata": {},
   "outputs": [],
   "source": [
    "#S Hemisphere - Max Temp vs. Latitude Linear Regression\n",
    "\n",
    "x_latitude = southernhem_df['Latitude']\n",
    "y_temperature = southernhem_df['Max Temperature']\n",
    "\n",
    "(slope, intercept, rvalue, pvalue, stderr) = linregress(x_latitude, y_temperature)\n",
    "#regression value equation\n",
    "regress_val = x_latitude * slope + intercept\n",
    "\n",
    "#line equation:\n",
    "line_equation = \"y = \" + str(slope) + \"x + \" + str(intercept)\n",
    "#scatterplot\n",
    "plt.scatter(x_latitude,y_temperature)\n",
    "plt.plot(x_latitude,regress_val,\"r-\")\n",
    "\n",
    "#labels\n",
    "plt.title('Southern Hemisphere- Max temp vs Latitude Linear Regression')\n",
    "plt.xlabel('Latitude')\n",
    "plt.ylabel('Max temperature')\n",
    "\n",
    "#show results, r value \n",
    "plt.show()\n",
    "plt.tight_layout()\n",
    "\n"
   ]
  },
  {
   "cell_type": "markdown",
   "metadata": {},
   "source": [
    "###  Northern Hemisphere - Humidity (%) vs. Latitude Linear Regression"
   ]
  },
  {
   "cell_type": "code",
   "execution_count": null,
   "metadata": {},
   "outputs": [],
   "source": [
    "#Northern Hemisphere - HUmidity vs. Latitude Linear Regression\n",
    "\n",
    "x_latitude = northernhem_df['Latitude']\n",
    "y_hum = northernhem_df['Humidity']\n",
    "\n",
    "(slope, intercept, rvalue, pvalue, stderr) = linregress(x_latitude, y_hum)\n",
    "#regression value equation\n",
    "regress_val = x_latitude * slope + intercept\n",
    "\n",
    "#line equation:\n",
    "line_equation = \"y = \" + str(slope) + \"x + \" + str(intercept)\n",
    "#scatterplot\n",
    "plt.scatter(x_latitude,y_hum)\n",
    "plt.plot(x_latitude,regress_val,\"r-\")\n",
    "\n",
    "#labels\n",
    "plt.title('Northern Hemisphere- Humidity vs Latitude Linear Regression')\n",
    "plt.xlabel('Latitude')\n",
    "plt.ylabel('Humidity')\n",
    "\n",
    "#show results, r value \n",
    "\n",
    "plt.show()\n",
    "plt.tight_layout()\n",
    "\n"
   ]
  },
  {
   "cell_type": "markdown",
   "metadata": {},
   "source": [
    "###  Southern Hemisphere - Humidity (%) vs. Latitude Linear Regression"
   ]
  },
  {
   "cell_type": "code",
   "execution_count": null,
   "metadata": {},
   "outputs": [],
   "source": [
    "#Southern Hemisphere - HUmidity vs. Latitude Linear Regression\n",
    "\n",
    "x_latitude = southernhem_df['Latitude']\n",
    "y_hum = southernhem_df['Humidity']\n",
    "\n",
    "(slope, intercept, rvalue, pvalue, stderr) = linregress(x_latitude, y_hum)\n",
    "#regression value equation\n",
    "regress_val = x_latitude * slope + intercept\n",
    "\n",
    "#line equation:\n",
    "line_equation = \"y = \" + str(slope) + \"x + \" + str(intercept)\n",
    "#scatterplot\n",
    "plt.scatter(x_latitude,y_hum)\n",
    "plt.plot(x_latitude,regress_val,\"r-\")\n",
    "\n",
    "#labels\n",
    "plt.title('Southern Hemisphere- Humidity vs Latitude Linear Regression')\n",
    "plt.xlabel('Latitude')\n",
    "plt.ylabel('Humidity')\n",
    "\n",
    "#show results, r value \n",
    "plt.show()\n",
    "plt.tight_layout()"
   ]
  },
  {
   "cell_type": "markdown",
   "metadata": {},
   "source": [
    "###  Northern Hemisphere - Cloudiness (%) vs. Latitude Linear Regression"
   ]
  },
  {
   "cell_type": "code",
   "execution_count": null,
   "metadata": {},
   "outputs": [],
   "source": [
    "#Northern Hemisphere - Cloudiness vs. Latitude Linear Regression\n",
    "\n",
    "x_latitude = northernhem_df['Latitude']\n",
    "y_c = northernhem_df['Cloudiness']\n",
    "\n",
    "(slope, intercept, rvalue, pvalue, stderr) = linregress(x_latitude, y_c)\n",
    "#regression value equation\n",
    "regress_val = x_latitude * slope + intercept\n",
    "\n",
    "#line equation:\n",
    "line_equation = \"y = \" + str(slope) + \"x + \" + str(intercept)\n",
    "#scatterplot\n",
    "plt.scatter(x_latitude,y_c)\n",
    "plt.plot(x_latitude,regress_val,\"r-\")\n",
    "\n",
    "#labels\n",
    "plt.title('Northern Hemisphere- Cloudiness vs Latitude Linear Regression')\n",
    "plt.xlabel('Latitude')\n",
    "plt.ylabel('Cloudiness')\n",
    "\n",
    "#show results, r value \n",
    "\n",
    "plt.show()\n",
    "plt.tight_layout()"
   ]
  },
  {
   "cell_type": "markdown",
   "metadata": {},
   "source": [
    "###  Southern Hemisphere - Cloudiness (%) vs. Latitude Linear Regression"
   ]
  },
  {
   "cell_type": "code",
   "execution_count": null,
   "metadata": {},
   "outputs": [],
   "source": [
    "#S Hemisphere - Cloudiness vs. Latitude Linear Regression\n",
    "\n",
    "x_latitude = southernhem_df['Latitude']\n",
    "y_c = southernhem_df['Cloudiness']\n",
    "(slope, intercept, rvalue, pvalue, stderr) = linregress(x_latitude, y_c)\n",
    "#regression value equation\n",
    "regress_val = x_latitude * slope + intercept\n",
    "\n",
    "#line equation:\n",
    "line_equation = \"y = \" + str(slope) + \"x + \" + str(intercept)\n",
    "#scatterplot\n",
    "plt.scatter(x_latitude,y_c)\n",
    "plt.plot(x_latitude,regress_val,\"r-\")\n",
    "\n",
    "#labels\n",
    "plt.title('Southern Hemisphere- Cloudiness vs Latitude Linear Regression')\n",
    "plt.xlabel('Latitude')\n",
    "plt.ylabel('Cloudiness')\n",
    "\n",
    "#show results, r value \n",
    "\n",
    "plt.show()\n",
    "plt.tight_layout()"
   ]
  },
  {
   "cell_type": "markdown",
   "metadata": {},
   "source": [
    "###  Northern Hemisphere - Wind Speed (mph) vs. Latitude Linear Regression"
   ]
  },
  {
   "cell_type": "code",
   "execution_count": null,
   "metadata": {},
   "outputs": [],
   "source": [
    "#northern hem\n",
    "\n",
    "x_latitude = northernhem_df['Latitude']\n",
    "y_s = northernhem_df['Wind Speed']\n",
    "(slope, intercept, rvalue, pvalue, stderr) = linregress(x_latitude, y_s)\n",
    "#regression value equation\n",
    "regress_val = x_latitude * slope + intercept\n",
    "\n",
    "#line equation:\n",
    "line_equation = \"y = \" + str(slope) + \"x + \" + str(intercept)\n",
    "#scatterplot\n",
    "plt.scatter(x_latitude,y_s)\n",
    "plt.plot(x_latitude,regress_val,\"r-\")\n",
    "\n",
    "#labels\n",
    "plt.title('Northern Hemisphere- Wind Speed vs Latitude Linear Regression')\n",
    "plt.xlabel('Latitude')\n",
    "plt.ylabel('Wind Speed')\n",
    "\n",
    "#show results, tight layout\n",
    "plt.show()\n",
    "plt.tight_layout()"
   ]
  },
  {
   "cell_type": "markdown",
   "metadata": {},
   "source": [
    "###  Southern Hemisphere - Wind Speed (mph) vs. Latitude Linear Regression"
   ]
  },
  {
   "cell_type": "code",
   "execution_count": null,
   "metadata": {},
   "outputs": [],
   "source": [
    "#southern hem\n",
    "\n",
    "x_latitude = southernhem_df['Latitude']\n",
    "y_s = southernhem_df['Wind Speed']\n",
    "(slope, intercept, rvalue, pvalue, stderr) = linregress(x_latitude, y_s)\n",
    "#regression value equation\n",
    "regress_val = x_latitude * slope + intercept\n",
    "\n",
    "#line equation:\n",
    "line_equation = \"y = \" + str(slope) + \"x + \" + str(intercept)\n",
    "#scatterplot\n",
    "plt.scatter(x_latitude,y_s)\n",
    "plt.plot(x_latitude,regress_val,\"r-\")\n",
    "\n",
    "#labels\n",
    "plt.title('Southern Hemisphere- Wind Speed vs Latitude Linear Regression')\n",
    "plt.xlabel('Latitude')\n",
    "plt.ylabel('Wind Speed')\n",
    "\n",
    "#show results, tight layout\n",
    "\n",
    "plt.show()\n",
    "plt.tight_layout()"
   ]
  },
  {
   "cell_type": "code",
   "execution_count": null,
   "metadata": {},
   "outputs": [],
   "source": [
    "#Observations:\n",
    "#code wouldn't run properly so I couldn't make obervations about the data plots\n"
   ]
  }
 ],
 "metadata": {
  "anaconda-cloud": {},
  "kernel_info": {
   "name": "python3"
  },
  "kernelspec": {
   "display_name": "Python 3",
   "language": "python",
   "name": "python3"
  },
  "language_info": {
   "codemirror_mode": {
    "name": "ipython",
    "version": 3
   },
   "file_extension": ".py",
   "mimetype": "text/x-python",
   "name": "python",
   "nbconvert_exporter": "python",
   "pygments_lexer": "ipython3",
   "version": "3.6.10"
  },
  "latex_envs": {
   "LaTeX_envs_menu_present": true,
   "autoclose": false,
   "autocomplete": true,
   "bibliofile": "biblio.bib",
   "cite_by": "apalike",
   "current_citInitial": 1,
   "eqLabelWithNumbers": true,
   "eqNumInitial": 1,
   "hotkeys": {
    "equation": "Ctrl-E",
    "itemize": "Ctrl-I"
   },
   "labels_anchors": false,
   "latex_user_defs": false,
   "report_style_numbering": false,
   "user_envs_cfg": false
  },
  "nteract": {
   "version": "0.12.3"
  },
  "toc": {
   "base_numbering": 1,
   "nav_menu": {},
   "number_sections": true,
   "sideBar": true,
   "skip_h1_title": false,
   "title_cell": "Table of Contents",
   "title_sidebar": "Contents",
   "toc_cell": false,
   "toc_position": {},
   "toc_section_display": true,
   "toc_window_display": false
  },
  "varInspector": {
   "cols": {
    "lenName": 16,
    "lenType": 16,
    "lenVar": 40
   },
   "kernels_config": {
    "python": {
     "delete_cmd_postfix": "",
     "delete_cmd_prefix": "del ",
     "library": "var_list.py",
     "varRefreshCmd": "print(var_dic_list())"
    },
    "r": {
     "delete_cmd_postfix": ") ",
     "delete_cmd_prefix": "rm(",
     "library": "var_list.r",
     "varRefreshCmd": "cat(var_dic_list()) "
    }
   },
   "types_to_exclude": [
    "module",
    "function",
    "builtin_function_or_method",
    "instance",
    "_Feature"
   ],
   "window_display": false
  }
 },
 "nbformat": 4,
 "nbformat_minor": 2
}
