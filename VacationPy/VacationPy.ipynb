{
 "cells": [
  {
   "cell_type": "markdown",
   "metadata": {},
   "source": [
    "# VacationPy\n",
    "----\n",
    "\n",
    "#### Note\n",
    "* Keep an eye on your API usage. Use https://developers.google.com/maps/reporting/gmp-reporting as reference for how to monitor your usage and billing.\n",
    "\n",
    "* Instructions have been included for each segment. You do not have to follow them exactly, but they are included to help you think through the steps."
   ]
  },
  {
   "cell_type": "code",
   "execution_count": null,
   "metadata": {},
   "outputs": [],
   "source": [
    "# Dependencies and Setup\n",
    "\n",
    "import matplotlib.pyplot as plt\n",
    "import pandas as pd\n",
    "import numpy as np\n",
    "import requests\n",
    "import gmaps\n",
    "import os\n",
    "#BE CAREFUL OF API USAGE\n",
    "\n",
    "#Import API key\n",
    "from api_keys import g_key"
   ]
  },
  {
   "cell_type": "markdown",
   "metadata": {},
   "source": [
    "### Store Part I results into DataFrame\n",
    "* Load the csv exported in Part I to a DataFrame"
   ]
  },
  {
   "cell_type": "code",
   "execution_count": null,
   "metadata": {},
   "outputs": [],
   "source": [
    "#export csv\n",
    "weathers_df = pd.read_csv('../output_data/cities.csv')\n",
    "#show csv\n",
    "weathers_df.head(10)"
   ]
  },
  {
   "cell_type": "markdown",
   "metadata": {},
   "source": [
    "### Humidity Heatmap\n",
    "* Configure gmaps.\n",
    "* Use the Lat and Lng as locations and Humidity as the weight.\n",
    "* Add Heatmap layer to map."
   ]
  },
  {
   "cell_type": "code",
   "execution_count": null,
   "metadata": {},
   "outputs": [],
   "source": [
    "#configure gmaps\n",
    "gmaps.configure(api_key=g_key)"
   ]
  },
  {
   "cell_type": "code",
   "execution_count": null,
   "metadata": {},
   "outputs": [],
   "source": [
    "#here use lat and long as locations and humidity as weight, set to type float\n",
    "location = weathers_df[[\"Lat\", \"Lng\"]].astype(float)\n",
    "humidity_x = weathers_df[\"Humidity\"].astype(float)"
   ]
  },
  {
   "cell_type": "code",
   "execution_count": null,
   "metadata": {},
   "outputs": [],
   "source": [
    "#we create a heatmap\n",
    "\n",
    "fig = gmaps.figure()\n",
    "#heat_layer\n",
    "heat_layer = gmaps.heatmap_layer(location, weights= humidity_x, dissipating = False, max_intensity = 100, point_radius= 2)\n",
    "fig.add_layer(heat_layer)\n",
    "#show \n",
    "fig"
   ]
  },
  {
   "cell_type": "markdown",
   "metadata": {},
   "source": [
    "### Create new DataFrame fitting weather criteria\n",
    "* Narrow down the cities to fit weather conditions.\n",
    "* Drop any rows will null values."
   ]
  },
  {
   "cell_type": "code",
   "execution_count": null,
   "metadata": {},
   "outputs": [],
   "source": [
    "#set location to narrow down cities to fit weather conditions\n",
    "#startwith hilo\n",
    "location = ['Hilo']\n",
    "#weather conditions\n",
    "#cloudiness \n",
    "#max temp> 70, less than 80\n",
    "#windspeed<10\n",
    "h_df = weathers_df[(weathers_df['Cloudiness'] == 0) & (weathers_df['Max Temp']> 70) & (weathers_df['Max Temp'] < 80) & (weathers_df['Wind Speed']< 9)]\n",
    "h_df\n",
    " "
   ]
  },
  {
   "cell_type": "code",
   "execution_count": null,
   "metadata": {},
   "outputs": [],
   "source": [
    "#heatmap vacations\n",
    "#location\n",
    "v_locations = h_df[['Lat', 'Lng']]\n",
    "#humidity\n",
    "v_humidity = h_df['Humidity'].astype(float)\n",
    "v_fig = gmaps.figure()\n",
    "v_heat_layer = gmaps.heatmap_layer(v_locations, weights= v_humidity, dissipating = False, max_intensity = 100, point_radius= 2)\n",
    "v_fig.add_layer(v_heat_layer)\n",
    "#show the results now \n",
    "v_fig"
   ]
  },
  {
   "cell_type": "markdown",
   "metadata": {},
   "source": [
    "### Hotel Map\n",
    "* Store into variable named `hotel_df`.\n",
    "* Add a \"Hotel Name\" column to the DataFrame.\n",
    "* Set parameters to search for hotels with 5000 meters.\n",
    "* Hit the Google Places API for each city's coordinates.\n",
    "* Store the first Hotel result into the DataFrame.\n",
    "* Plot markers on top of the heatmap."
   ]
  },
  {
   "cell_type": "code",
   "execution_count": null,
   "metadata": {},
   "outputs": [],
   "source": [
    "#Store into variable named hotel_df\n",
    "#hotel_df =[]\n"
   ]
  },
  {
   "cell_type": "code",
   "execution_count": null,
   "metadata": {},
   "outputs": [],
   "source": [
    "# variable name\n",
    "hotel_df =[]\n",
    "\n",
    "#setting paramets to search for hotels within 5000 meters\n",
    "for city in range(len(h_df[\"City\"])):\n",
    "    \n",
    "    url = \"https://maps.googleapis.com/maps/api/place/nearbysearch/json\"\n",
    "    \n",
    "    lats = h_df.loc[city][\"Lat\"]\n",
    "    lngs = h_df.loc[city][\"Lng\"]\n",
    "#coordinates  \n",
    "    coordinates = f\" {lats}{lngs}\"\n",
    "    \n",
    "#possible parameters:\n",
    "\n",
    "#location, rankby 500, types, key, language, , name, keyword, \n",
    "    params = {\n",
    "        \"location\" :  coordinates,\n",
    "        \"rankby\"   :  \"prominence\",\n",
    "        \"language\"  :  en,\n",
    "        \"types\"    : \"lodging\",\n",
    "        \"key\"      :  g_key\n",
    "    }\n",
    " #google place \n",
    "    hotel_req = requests.get(url, params=params).json\n",
    "    hotel_df.append(hotel_req)[\"name\"]\n",
    "    \n",
    "#nearest hotel   \n",
    "h_df[\"Nearest Hotel\"] = hotel_df\n",
    "#show results\n",
    "h_df.head(10)"
   ]
  },
  {
   "cell_type": "code",
   "execution_count": null,
   "metadata": {},
   "outputs": [],
   "source": []
  },
  {
   "cell_type": "code",
   "execution_count": null,
   "metadata": {},
   "outputs": [],
   "source": [
    "# NOTE: Do not change any of the code in this cell\n",
    "\n",
    "# Using the template add the hotel marks to the heatmap\n",
    "info_box_template = \"\"\"\n",
    "<dl>\n",
    "<dt>Name</dt><dd>{Hotel Name}</dd>\n",
    "<dt>City</dt><dd>{City}</dd>\n",
    "<dt>Country</dt><dd>{Country}</dd>\n",
    "</dl>\n",
    "\"\"\"\n",
    "# Store the DataFrame Row\n",
    "# NOTE: be sure to update with your DataFrame name\n",
    "hotel_info = [info_box_template.format(**row) for index, row in hotel_df.iterrows()]\n",
    "locations = hotel_df[[\"Lat\", \"Lng\"]]"
   ]
  },
  {
   "cell_type": "code",
   "execution_count": null,
   "metadata": {},
   "outputs": [],
   "source": [
    "#\n"
   ]
  },
  {
   "cell_type": "code",
   "execution_count": null,
   "metadata": {},
   "outputs": [],
   "source": []
  }
 ],
 "metadata": {
  "kernelspec": {
   "display_name": "Python 3",
   "language": "python",
   "name": "python3"
  },
  "language_info": {
   "codemirror_mode": {
    "name": "ipython",
    "version": 3
   },
   "file_extension": ".py",
   "mimetype": "text/x-python",
   "name": "python",
   "nbconvert_exporter": "python",
   "pygments_lexer": "ipython3",
   "version": "3.6.10"
  },
  "latex_envs": {
   "LaTeX_envs_menu_present": true,
   "autoclose": false,
   "autocomplete": true,
   "bibliofile": "biblio.bib",
   "cite_by": "apalike",
   "current_citInitial": 1,
   "eqLabelWithNumbers": true,
   "eqNumInitial": 1,
   "hotkeys": {
    "equation": "Ctrl-E",
    "itemize": "Ctrl-I"
   },
   "labels_anchors": false,
   "latex_user_defs": false,
   "report_style_numbering": false,
   "user_envs_cfg": false
  }
 },
 "nbformat": 4,
 "nbformat_minor": 4
}
